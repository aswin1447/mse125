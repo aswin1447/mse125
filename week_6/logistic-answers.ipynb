{
 "cells": [
  {
   "cell_type": "markdown",
   "metadata": {},
   "source": [
    "# Week 6 Discussion: Logistic Regression\n",
    "\n",
    "*Camelia Simoiu, Jongbin Jung, and Jerry Lin.*"
   ]
  },
  {
   "cell_type": "code",
   "execution_count": 4,
   "metadata": {},
   "outputs": [],
   "source": [
    "set.seed(125)\n",
    "library(\"IRdisplay\")\n",
    "library(\"tidyverse\")\n",
    "library(\"ggplot2\")\n",
    "theme_set(theme_bw())\n",
    "options(repr.plot.width=4, repr.plot.height=3.5)"
   ]
  },
  {
   "cell_type": "markdown",
   "metadata": {},
   "source": [
    "<a name=\"myfootnote1_back\"></a>\n",
    "## Setup\n",
    "\n",
    "### Background\n",
    "\n",
    "\"Stop-and-frisk\" is a police practice of temporarily detaining, questioning, and at times searching civilians on the street for weapons and other contraband. \n",
    "\n",
    "In New York City, between 2003 and 2013, over 100,000 stops were made per year, with 685,724 people being stopped at the height of the program in 2011. The vast majority of those stopped were African-American or Latino, raising concerns of racial bias <sup>[1](#myfootnote1)</sup>.\n",
    "\n",
    "We will work with a sample of stops in NYC made between 2008-2011, recorded on a [UF-250 form](https://www.prisonlegalnews.org/news/publications/blank-uf-250-form-stop-question-and-frisk-report-worksheet-nypd-2016/).\n",
    "The data can be downloaded as an `Rdata` file from [here](https://5harad.com/mse125/discussions/week_6/frisk_stops.RData).\n",
    "Once you've downloaded the data, you can load it into your environment with the\n",
    "`load()` function. This will load a single data frame named `stops`"
   ]
  },
  {
   "cell_type": "code",
   "execution_count": 52,
   "metadata": {},
   "outputs": [
    {
     "data": {
      "text/html": [
       "<table>\n",
       "<caption>A data.frame: 6 × 10</caption>\n",
       "<thead>\n",
       "\t<tr><th scope=col>id</th><th scope=col>date</th><th scope=col>time</th><th scope=col>precinct</th><th scope=col>suspect_race</th><th scope=col>suspect_sex</th><th scope=col>suspect_age</th><th scope=col>suspected_crime</th><th scope=col>frisked</th><th scope=col>found_weapon</th></tr>\n",
       "\t<tr><th scope=col>&lt;int&gt;</th><th scope=col>&lt;chr&gt;</th><th scope=col>&lt;chr&gt;</th><th scope=col>&lt;fct&gt;</th><th scope=col>&lt;fct&gt;</th><th scope=col>&lt;fct&gt;</th><th scope=col>&lt;int&gt;</th><th scope=col>&lt;fct&gt;</th><th scope=col>&lt;lgl&gt;</th><th scope=col>&lt;lgl&gt;</th></tr>\n",
       "</thead>\n",
       "<tbody>\n",
       "\t<tr><td>2686798</td><td>2010-12-17</td><td>15:15</td><td>83 </td><td>hispanic</td><td>male</td><td>12</td><td>burglary          </td><td> TRUE</td><td>FALSE</td></tr>\n",
       "\t<tr><td>2075967</td><td>2009-12-08</td><td>15:19</td><td>40 </td><td>black   </td><td>male</td><td>19</td><td>cpw               </td><td> TRUE</td><td> TRUE</td></tr>\n",
       "\t<tr><td>1268296</td><td>2008-07-12</td><td>14:45</td><td>13 </td><td>black   </td><td>male</td><td>47</td><td>grand larceny     </td><td>FALSE</td><td>FALSE</td></tr>\n",
       "\t<tr><td>2522700</td><td>2010-09-08</td><td>21:55</td><td>43 </td><td>black   </td><td>male</td><td>23</td><td>cpw               </td><td> TRUE</td><td>FALSE</td></tr>\n",
       "\t<tr><td>2722653</td><td>2011-01-13</td><td>23:28</td><td>120</td><td>black   </td><td>male</td><td>30</td><td>robbery           </td><td> TRUE</td><td>FALSE</td></tr>\n",
       "\t<tr><td>2333983</td><td>2010-05-12</td><td>19:55</td><td>62 </td><td>white   </td><td>male</td><td>24</td><td>grand larceny auto</td><td> TRUE</td><td>FALSE</td></tr>\n",
       "</tbody>\n",
       "</table>\n"
      ],
      "text/latex": [
       "A data.frame: 6 × 10\n",
       "\\begin{tabular}{r|llllllllll}\n",
       " id & date & time & precinct & suspect\\_race & suspect\\_sex & suspect\\_age & suspected\\_crime & frisked & found\\_weapon\\\\\n",
       " <int> & <chr> & <chr> & <fct> & <fct> & <fct> & <int> & <fct> & <lgl> & <lgl>\\\\\n",
       "\\hline\n",
       "\t 2686798 & 2010-12-17 & 15:15 & 83  & hispanic & male & 12 & burglary           &  TRUE & FALSE\\\\\n",
       "\t 2075967 & 2009-12-08 & 15:19 & 40  & black    & male & 19 & cpw                &  TRUE &  TRUE\\\\\n",
       "\t 1268296 & 2008-07-12 & 14:45 & 13  & black    & male & 47 & grand larceny      & FALSE & FALSE\\\\\n",
       "\t 2522700 & 2010-09-08 & 21:55 & 43  & black    & male & 23 & cpw                &  TRUE & FALSE\\\\\n",
       "\t 2722653 & 2011-01-13 & 23:28 & 120 & black    & male & 30 & robbery            &  TRUE & FALSE\\\\\n",
       "\t 2333983 & 2010-05-12 & 19:55 & 62  & white    & male & 24 & grand larceny auto &  TRUE & FALSE\\\\\n",
       "\\end{tabular}\n"
      ],
      "text/markdown": [
       "\n",
       "A data.frame: 6 × 10\n",
       "\n",
       "| id &lt;int&gt; | date &lt;chr&gt; | time &lt;chr&gt; | precinct &lt;fct&gt; | suspect_race &lt;fct&gt; | suspect_sex &lt;fct&gt; | suspect_age &lt;int&gt; | suspected_crime &lt;fct&gt; | frisked &lt;lgl&gt; | found_weapon &lt;lgl&gt; |\n",
       "|---|---|---|---|---|---|---|---|---|---|\n",
       "| 2686798 | 2010-12-17 | 15:15 | 83  | hispanic | male | 12 | burglary           |  TRUE | FALSE |\n",
       "| 2075967 | 2009-12-08 | 15:19 | 40  | black    | male | 19 | cpw                |  TRUE |  TRUE |\n",
       "| 1268296 | 2008-07-12 | 14:45 | 13  | black    | male | 47 | grand larceny      | FALSE | FALSE |\n",
       "| 2522700 | 2010-09-08 | 21:55 | 43  | black    | male | 23 | cpw                |  TRUE | FALSE |\n",
       "| 2722653 | 2011-01-13 | 23:28 | 120 | black    | male | 30 | robbery            |  TRUE | FALSE |\n",
       "| 2333983 | 2010-05-12 | 19:55 | 62  | white    | male | 24 | grand larceny auto |  TRUE | FALSE |\n",
       "\n"
      ],
      "text/plain": [
       "  id      date       time  precinct suspect_race suspect_sex suspect_age\n",
       "1 2686798 2010-12-17 15:15 83       hispanic     male        12         \n",
       "2 2075967 2009-12-08 15:19 40       black        male        19         \n",
       "3 1268296 2008-07-12 14:45 13       black        male        47         \n",
       "4 2522700 2010-09-08 21:55 43       black        male        23         \n",
       "5 2722653 2011-01-13 23:28 120      black        male        30         \n",
       "6 2333983 2010-05-12 19:55 62       white        male        24         \n",
       "  suspected_crime    frisked found_weapon\n",
       "1 burglary            TRUE   FALSE       \n",
       "2 cpw                 TRUE    TRUE       \n",
       "3 grand larceny      FALSE   FALSE       \n",
       "4 cpw                 TRUE   FALSE       \n",
       "5 robbery             TRUE   FALSE       \n",
       "6 grand larceny auto  TRUE   FALSE       "
      ]
     },
     "metadata": {},
     "output_type": "display_data"
    }
   ],
   "source": [
    "# Read the data, downloaded from\n",
    "# https://5harad.com/mse125/discussions/week_6/frisk_stops.RData\n",
    "load(\"frisk_stops.RData\")\n",
    "\n",
    "# preview the first few rows of the data\n",
    "head(stops)"
   ]
  },
  {
   "cell_type": "markdown",
   "metadata": {},
   "source": [
    "For the purpose of this exercise, we will focus on a few selected columns:\n",
    "\n",
    "* Base information regarding stop\n",
    "    + `id`, `date`, `time`, `precinct`, `suspected_crime`\n",
    "* Suspect demographics:\n",
    "    + `suspect_sex`, `suspect_race`, `suspect_age`\n",
    "* Was person frisked?\n",
    "    + `frisked`\n",
    "* Was a weapon found?\n",
    "    + `found_weapon`\n"
   ]
  },
  {
   "cell_type": "markdown",
   "metadata": {},
   "source": [
    "\n",
    "### Questions\n",
    "\n",
    "We'll use the `stops` data to explore two questions.\n",
    "\n",
    "1. Is there evidence of racial bias in the officer's decision to frisk individuals?\n",
    "\n",
    "2. Can we design a better, statistically driven frisk policy?\n",
    "\n",
    "\n",
    "## Question 1: Racial bias\n",
    "\n",
    "First, we would like to better understand whether officiers' decision to\n",
    "frisk individuals, after stopping them, may stem in part from racial bias.\n",
    "\n",
    "\n",
    "### Base rate disparities in the decision to frisk\n",
    "\n",
    "A natural first step in investigating racial bias is to look at\n",
    "how often individuals of different race groups were frisked, given that they\n",
    "are stopped.\n",
    "In other words, for each race group among people who were stopped, we would like\n",
    "to find the proportion of individuals who were frisked."
   ]
  },
  {
   "cell_type": "code",
   "execution_count": 6,
   "metadata": {},
   "outputs": [
    {
     "data": {
      "text/html": [
       "<table>\n",
       "<caption>A tibble: 3 × 4</caption>\n",
       "<thead>\n",
       "\t<tr><th scope=col>suspect_race</th><th scope=col>num_stops</th><th scope=col>num_frisked</th><th scope=col>p_frisked</th></tr>\n",
       "\t<tr><th scope=col>&lt;fct&gt;</th><th scope=col>&lt;int&gt;</th><th scope=col>&lt;int&gt;</th><th scope=col>&lt;dbl&gt;</th></tr>\n",
       "</thead>\n",
       "<tbody>\n",
       "\t<tr><td>black   </td><td>54806</td><td>40542</td><td>0.7397365</td></tr>\n",
       "\t<tr><td>hispanic</td><td>32512</td><td>23365</td><td>0.7186577</td></tr>\n",
       "\t<tr><td>white   </td><td>12682</td><td> 7299</td><td>0.5755401</td></tr>\n",
       "</tbody>\n",
       "</table>\n"
      ],
      "text/latex": [
       "A tibble: 3 × 4\n",
       "\\begin{tabular}{r|llll}\n",
       " suspect\\_race & num\\_stops & num\\_frisked & p\\_frisked\\\\\n",
       " <fct> & <int> & <int> & <dbl>\\\\\n",
       "\\hline\n",
       "\t black    & 54806 & 40542 & 0.7397365\\\\\n",
       "\t hispanic & 32512 & 23365 & 0.7186577\\\\\n",
       "\t white    & 12682 &  7299 & 0.5755401\\\\\n",
       "\\end{tabular}\n"
      ],
      "text/markdown": [
       "\n",
       "A tibble: 3 × 4\n",
       "\n",
       "| suspect_race &lt;fct&gt; | num_stops &lt;int&gt; | num_frisked &lt;int&gt; | p_frisked &lt;dbl&gt; |\n",
       "|---|---|---|---|\n",
       "| black    | 54806 | 40542 | 0.7397365 |\n",
       "| hispanic | 32512 | 23365 | 0.7186577 |\n",
       "| white    | 12682 |  7299 | 0.5755401 |\n",
       "\n"
      ],
      "text/plain": [
       "  suspect_race num_stops num_frisked p_frisked\n",
       "1 black        54806     40542       0.7397365\n",
       "2 hispanic     32512     23365       0.7186577\n",
       "3 white        12682      7299       0.5755401"
      ]
     },
     "metadata": {},
     "output_type": "display_data"
    }
   ],
   "source": [
    "# Your code here!\n",
    "\n",
    "# For each race, calculate\n",
    "# num_stops: number of stops\n",
    "# num_frisked: number of frisks, \n",
    "# p_frisked: probabiilty of being frisked\n",
    "\n",
    "# START solution\n",
    "\n",
    "p_frisk_by_race <- stops %>%\n",
    "    group_by(suspect_race) %>%\n",
    "    summarize(\n",
    "        num_stops = n(),\n",
    "        num_frisked = sum(frisked),\n",
    "        p_frisked = mean(frisked)\n",
    "    )  # this is equal to num_frisked / num_stops since \"frisked\" is binary\n",
    "p_frisk_by_race\n",
    "\n",
    "# END solution"
   ]
  },
  {
   "cell_type": "markdown",
   "metadata": {},
   "source": [
    "When comparing proportions across groups, is is common to compute the odds ratio (more on why that is later).\n",
    "To compute odds ratios, we must first compute the odds, where for some\n",
    "probability $p = \\Pr(Y = 1)$, the odds of $Y = 1$ is computed as\n",
    "$\\frac{p}{1-p}$. In other words, the odds of some event is the probability of\n",
    "the event happening, over the probability of the event _not_ happening.\n",
    "For our example of frisk rates by race group, the odds would be computed as:"
   ]
  },
  {
   "cell_type": "code",
   "execution_count": 7,
   "metadata": {},
   "outputs": [
    {
     "data": {
      "text/html": [
       "<table>\n",
       "<caption>A tibble: 3 × 2</caption>\n",
       "<thead>\n",
       "\t<tr><th scope=col>suspect_race</th><th scope=col>odds_of_frisk</th></tr>\n",
       "\t<tr><th scope=col>&lt;fct&gt;</th><th scope=col>&lt;dbl&gt;</th></tr>\n",
       "</thead>\n",
       "<tbody>\n",
       "\t<tr><td>black   </td><td>2.842260</td></tr>\n",
       "\t<tr><td>hispanic</td><td>2.554389</td></tr>\n",
       "\t<tr><td>white   </td><td>1.355935</td></tr>\n",
       "</tbody>\n",
       "</table>\n"
      ],
      "text/latex": [
       "A tibble: 3 × 2\n",
       "\\begin{tabular}{r|ll}\n",
       " suspect\\_race & odds\\_of\\_frisk\\\\\n",
       " <fct> & <dbl>\\\\\n",
       "\\hline\n",
       "\t black    & 2.842260\\\\\n",
       "\t hispanic & 2.554389\\\\\n",
       "\t white    & 1.355935\\\\\n",
       "\\end{tabular}\n"
      ],
      "text/markdown": [
       "\n",
       "A tibble: 3 × 2\n",
       "\n",
       "| suspect_race &lt;fct&gt; | odds_of_frisk &lt;dbl&gt; |\n",
       "|---|---|\n",
       "| black    | 2.842260 |\n",
       "| hispanic | 2.554389 |\n",
       "| white    | 1.355935 |\n",
       "\n"
      ],
      "text/plain": [
       "  suspect_race odds_of_frisk\n",
       "1 black        2.842260     \n",
       "2 hispanic     2.554389     \n",
       "3 white        1.355935     "
      ]
     },
     "metadata": {},
     "output_type": "display_data"
    },
    {
     "data": {
      "text/html": [
       "<table>\n",
       "<caption>A tibble: 1 × 3</caption>\n",
       "<thead>\n",
       "\t<tr><th scope=col>black</th><th scope=col>hispanic</th><th scope=col>white</th></tr>\n",
       "\t<tr><th scope=col>&lt;dbl&gt;</th><th scope=col>&lt;dbl&gt;</th><th scope=col>&lt;dbl&gt;</th></tr>\n",
       "</thead>\n",
       "<tbody>\n",
       "\t<tr><td>2.84226</td><td>2.554389</td><td>1.355935</td></tr>\n",
       "</tbody>\n",
       "</table>\n"
      ],
      "text/latex": [
       "A tibble: 1 × 3\n",
       "\\begin{tabular}{r|lll}\n",
       " black & hispanic & white\\\\\n",
       " <dbl> & <dbl> & <dbl>\\\\\n",
       "\\hline\n",
       "\t 2.84226 & 2.554389 & 1.355935\\\\\n",
       "\\end{tabular}\n"
      ],
      "text/markdown": [
       "\n",
       "A tibble: 1 × 3\n",
       "\n",
       "| black &lt;dbl&gt; | hispanic &lt;dbl&gt; | white &lt;dbl&gt; |\n",
       "|---|---|---|\n",
       "| 2.84226 | 2.554389 | 1.355935 |\n",
       "\n"
      ],
      "text/plain": [
       "  black   hispanic white   \n",
       "1 2.84226 2.554389 1.355935"
      ]
     },
     "metadata": {},
     "output_type": "display_data"
    }
   ],
   "source": [
    "frisk_odds_by_race <- p_frisk_by_race %>%\n",
    "  mutate(\n",
    "      odds_of_frisk = p_frisked / (1 - p_frisked)\n",
    "  ) %>%\n",
    "  select(suspect_race, odds_of_frisk) \n",
    "\n",
    "display(frisk_odds_by_race)\n",
    "\n",
    "# we then pivot pivot the tibble to a horizontal one for convenience\n",
    "frisk_odds_by_race <- frisk_odds_by_race %>% \n",
    "    pivot_wider(names_from=suspect_race, values_from=odds_of_frisk)\n",
    "\n",
    "frisk_odds_by_race"
   ]
  },
  {
   "cell_type": "markdown",
   "metadata": {},
   "source": [
    "Then, the _odds ratio_ between two groups is computed as\n",
    "\n",
    "$$\\frac{\\textrm{Odds for comparison group}}{\\textrm{Odds for base group}}$$\n",
    "\n",
    "For example, from the odds of frisk computed above, the odds ratio of a black\n",
    "individual being frisked compared to a white individual is\n"
   ]
  },
  {
   "cell_type": "code",
   "execution_count": 8,
   "metadata": {},
   "outputs": [
    {
     "data": {
      "text/html": [
       "<table>\n",
       "<caption>A tibble: 1 × 1</caption>\n",
       "<thead>\n",
       "\t<tr><th scope=col>odds_ratio</th></tr>\n",
       "\t<tr><th scope=col>&lt;dbl&gt;</th></tr>\n",
       "</thead>\n",
       "<tbody>\n",
       "\t<tr><td>2.096162</td></tr>\n",
       "</tbody>\n",
       "</table>\n"
      ],
      "text/latex": [
       "A tibble: 1 × 1\n",
       "\\begin{tabular}{r|l}\n",
       " odds\\_ratio\\\\\n",
       " <dbl>\\\\\n",
       "\\hline\n",
       "\t 2.096162\\\\\n",
       "\\end{tabular}\n"
      ],
      "text/markdown": [
       "\n",
       "A tibble: 1 × 1\n",
       "\n",
       "| odds_ratio &lt;dbl&gt; |\n",
       "|---|\n",
       "| 2.096162 |\n",
       "\n"
      ],
      "text/plain": [
       "  odds_ratio\n",
       "1 2.096162  "
      ]
     },
     "metadata": {},
     "output_type": "display_data"
    }
   ],
   "source": [
    "# calcultae odds ratio\n",
    "frisk_odds_by_race %>%\n",
    "  transmute(odds_ratio = black / white)"
   ]
  },
  {
   "cell_type": "markdown",
   "metadata": {},
   "source": [
    "Or equivalently, the odds ratio of a white individual being frisked compared\n",
    "to a black individual is"
   ]
  },
  {
   "cell_type": "code",
   "execution_count": 9,
   "metadata": {},
   "outputs": [
    {
     "data": {
      "text/html": [
       "<table>\n",
       "<caption>A tibble: 1 × 1</caption>\n",
       "<thead>\n",
       "\t<tr><th scope=col>odds_ratio</th></tr>\n",
       "\t<tr><th scope=col>&lt;dbl&gt;</th></tr>\n",
       "</thead>\n",
       "<tbody>\n",
       "\t<tr><td>0.4770624</td></tr>\n",
       "</tbody>\n",
       "</table>\n"
      ],
      "text/latex": [
       "A tibble: 1 × 1\n",
       "\\begin{tabular}{r|l}\n",
       " odds\\_ratio\\\\\n",
       " <dbl>\\\\\n",
       "\\hline\n",
       "\t 0.4770624\\\\\n",
       "\\end{tabular}\n"
      ],
      "text/markdown": [
       "\n",
       "A tibble: 1 × 1\n",
       "\n",
       "| odds_ratio &lt;dbl&gt; |\n",
       "|---|\n",
       "| 0.4770624 |\n",
       "\n"
      ],
      "text/plain": [
       "  odds_ratio\n",
       "1 0.4770624 "
      ]
     },
     "metadata": {},
     "output_type": "display_data"
    }
   ],
   "source": [
    "frisk_odds_by_race %>%\n",
    "  transmute(odds_ratio = white / black)"
   ]
  },
  {
   "cell_type": "markdown",
   "metadata": {},
   "source": [
    "Either way, we see that, on average, minorities are frisked at higher rates than whites.\n",
    "However, as we will explore further, this is not enough evidence to conclude that officers' decision \n",
    "to frisk individuals is racially biased."
   ]
  },
  {
   "cell_type": "markdown",
   "metadata": {},
   "source": [
    "\n",
    "### Omitted variable bias\n",
    "\n",
    "One concern is that officers might have a legitimate reason to frisk certain\n",
    "individuals more often than others, and this legitimate reason is correlated with race.\n",
    "Then, our previous measure would be biased due to that legitimate reason not\n",
    "being captured in the data, which might otherwise explain the observed disparities.\n",
    "This is known as omitted-variable bias.\n",
    "\n",
    "For example, one of the reasons for stopping an individual is if the officer\n",
    "suspects criminal posession of a weapon (CPW; encoded in the `stops` data as\n",
    "`suspected_crime = \"cpw\"`). If this is the case, then one could argue that \n",
    "it is reasonable for an officer to frisk individuals whom\n",
    "they have stopped under suspicion of criminal possession of weapons.\n",
    "It just may be that certain race groups are more often suspected of CPW than other\n",
    "race groups.\n",
    "\n",
    "Let's see whether this is the case. \n",
    "To do so, we first need to create a new data frame that has a column indicating whether the stop was\n",
    "for suspected criminal posession of a weapon"
   ]
  },
  {
   "cell_type": "code",
   "execution_count": 10,
   "metadata": {},
   "outputs": [
    {
     "data": {
      "text/html": [
       "<table>\n",
       "<caption>A tibble: 3 × 2</caption>\n",
       "<thead>\n",
       "\t<tr><th scope=col>suspect_race</th><th scope=col>p_cpw</th></tr>\n",
       "\t<tr><th scope=col>&lt;fct&gt;</th><th scope=col>&lt;dbl&gt;</th></tr>\n",
       "</thead>\n",
       "<tbody>\n",
       "\t<tr><td>black   </td><td>0.3540488</td></tr>\n",
       "\t<tr><td>hispanic</td><td>0.2522453</td></tr>\n",
       "\t<tr><td>white   </td><td>0.1168585</td></tr>\n",
       "</tbody>\n",
       "</table>\n"
      ],
      "text/latex": [
       "A tibble: 3 × 2\n",
       "\\begin{tabular}{r|ll}\n",
       " suspect\\_race & p\\_cpw\\\\\n",
       " <fct> & <dbl>\\\\\n",
       "\\hline\n",
       "\t black    & 0.3540488\\\\\n",
       "\t hispanic & 0.2522453\\\\\n",
       "\t white    & 0.1168585\\\\\n",
       "\\end{tabular}\n"
      ],
      "text/markdown": [
       "\n",
       "A tibble: 3 × 2\n",
       "\n",
       "| suspect_race &lt;fct&gt; | p_cpw &lt;dbl&gt; |\n",
       "|---|---|\n",
       "| black    | 0.3540488 |\n",
       "| hispanic | 0.2522453 |\n",
       "| white    | 0.1168585 |\n",
       "\n"
      ],
      "text/plain": [
       "  suspect_race p_cpw    \n",
       "1 black        0.3540488\n",
       "2 hispanic     0.2522453\n",
       "3 white        0.1168585"
      ]
     },
     "metadata": {},
     "output_type": "display_data"
    }
   ],
   "source": [
    "# Your code here!\n",
    "\n",
    "# Create a new data frame that has a binary column indicating whether the stop was\n",
    "# for suspected criminal posession of a weapon\n",
    "\n",
    "# START solution\n",
    "\n",
    "stops_cpw <- stops %>%\n",
    "  mutate(is_cpw = suspected_crime == \"cpw\")\n",
    "\n",
    "stops_cpw %>%\n",
    "  group_by(suspect_race) %>%\n",
    "  summarize(p_cpw = mean(is_cpw))\n",
    "\n",
    "# END solution"
   ]
  },
  {
   "cell_type": "markdown",
   "metadata": {},
   "source": [
    "Indeed, we find that minority race groups are stopped under suspicion of CPW\n",
    "more often than whites.\n",
    "When comparing frisk rates across race groups, we can account for the\n",
    "differences in suspicion of CPW by first computing the proportion frisked for\n",
    "each race group, conditional on whether the stop was under suspicion of CPW. "
   ]
  },
  {
   "cell_type": "code",
   "execution_count": 11,
   "metadata": {},
   "outputs": [
    {
     "data": {
      "text/html": [
       "<table>\n",
       "<caption>A tibble: 3 × 2</caption>\n",
       "<thead>\n",
       "\t<tr><th scope=col>suspect_race</th><th scope=col>p_frisked</th></tr>\n",
       "\t<tr><th scope=col>&lt;fct&gt;</th><th scope=col>&lt;dbl&gt;</th></tr>\n",
       "</thead>\n",
       "<tbody>\n",
       "\t<tr><td>black   </td><td>0.7862460</td></tr>\n",
       "\t<tr><td>hispanic</td><td>0.7922402</td></tr>\n",
       "\t<tr><td>white   </td><td>0.7207532</td></tr>\n",
       "</tbody>\n",
       "</table>\n"
      ],
      "text/latex": [
       "A tibble: 3 × 2\n",
       "\\begin{tabular}{r|ll}\n",
       " suspect\\_race & p\\_frisked\\\\\n",
       " <fct> & <dbl>\\\\\n",
       "\\hline\n",
       "\t black    & 0.7862460\\\\\n",
       "\t hispanic & 0.7922402\\\\\n",
       "\t white    & 0.7207532\\\\\n",
       "\\end{tabular}\n"
      ],
      "text/markdown": [
       "\n",
       "A tibble: 3 × 2\n",
       "\n",
       "| suspect_race &lt;fct&gt; | p_frisked &lt;dbl&gt; |\n",
       "|---|---|\n",
       "| black    | 0.7862460 |\n",
       "| hispanic | 0.7922402 |\n",
       "| white    | 0.7207532 |\n",
       "\n"
      ],
      "text/plain": [
       "  suspect_race p_frisked\n",
       "1 black        0.7862460\n",
       "2 hispanic     0.7922402\n",
       "3 white        0.7207532"
      ]
     },
     "metadata": {},
     "output_type": "display_data"
    }
   ],
   "source": [
    "# Your code here!\n",
    "\n",
    "# Calculate proportion frisked for each race, accounting for cpw.\n",
    "# We will do this by averaging the frisked proportion for cpw == TRUE and cpw == FALSE\n",
    "# for each race\n",
    "\n",
    "# START solution\n",
    "\n",
    "# calculate the proportion frisked for each race, cpw status (3 races x 2 cpw statuses = 6 groups)\n",
    "frisked_cpw <- stops_cpw %>%\n",
    "  group_by(suspect_race, is_cpw) %>%\n",
    "  summarise(num_stops   = n(),\n",
    "            num_frisked = sum(frisked),\n",
    "            p_frisked   = mean(frisked))\n",
    "\n",
    "# calculate proportion frisked for each race, accounting for cpw\n",
    "frisked_cpw %>% \n",
    "  group_by(suspect_race) %>%\n",
    "  summarise(p_frisked = mean(p_frisked))\n",
    "\n",
    "# END solution"
   ]
  },
  {
   "cell_type": "markdown",
   "metadata": {},
   "source": [
    "We see that if we adjust for whether the stop reason was CPW, the disparities\n",
    "decrease significantly, but do not disappear.\n",
    "\n",
    "\n",
    "<a name=\"myfootnote2_back\"></a>\n",
    "### Base rate disparities with logistic regression\n",
    "\n",
    "Adjusting for potentially legitimate factors, such as whether the stop was a CPW\n",
    "stop, can get quite complex if we wish to adjust the frisk rate for more than\n",
    "one variable.\n",
    "Alternatively, we can use regression to measure the differences across race groups,\n",
    "conditional on a number of covariates.\n",
    "Specifically for the case where the outcome of interest is a binary variable\n",
    "(e.g., whether or not an individual was frisked), a logistic regression is\n",
    "often used.\n",
    "\n",
    "In `R` we use the `glm` function to fit generalized regression models, such as\n",
    "a logistic regression.\n",
    "In its simplest form, the `glm` function is specified with a formula, the data,\n",
    "and a family which indicates what type of \"generalized\" regression is used<sup>[2](#myfootnote2)</sup>.\n",
    "A formula in `R` is specified in the form: `Left-hand-side variable ~ Right-hand-side specifications`.\n",
    "In the simplest form of our example, we would like to\n",
    "\n",
    "- regress `frisked` on the `suspect_race` variable (specifying the formula\n",
    "  `frisked ~ suspect_race`)\n",
    "- use a logistic link function (which is of the `binomial` family)\n",
    "- using the `stops` data\n",
    "\n",
    "Hence, we would write:"
   ]
  },
  {
   "cell_type": "code",
   "execution_count": 13,
   "metadata": {},
   "outputs": [
    {
     "name": "stdout",
     "output_type": "stream",
     "text": [
      "\n",
      "Call:  glm(formula = frisked ~ suspect_race, family = binomial, data = stops)\n",
      "\n",
      "Coefficients:\n",
      "         (Intercept)  suspect_racehispanic     suspect_racewhite  \n",
      "              1.0446               -0.1068               -0.7401  \n",
      "\n",
      "Degrees of Freedom: 99999 Total (i.e. Null);  99997 Residual\n",
      "Null Deviance:\t    120100 \n",
      "Residual Deviance: 118800 \tAIC: 118800\n"
     ]
    }
   ],
   "source": [
    "base_model <- glm(frisked ~ suspect_race,\n",
    "                  family = binomial,\n",
    "                  data = stops)\n",
    "print(base_model)"
   ]
  },
  {
   "cell_type": "markdown",
   "metadata": {},
   "source": [
    "\n",
    "In the model above, we see that the model coefficients are relative to \n",
    "the `suspect_race = \"black\"` group (i.e., there is no `suspect_raceblack`\n",
    "coefficient).\n",
    "We see that Hispanic and white individuals are less likely \n",
    "to be frisked than blacks (as indicated by the negative coefficient).\n",
    "\n",
    "This is because the `\"black\"` category happens to be the first in alphabetical\n",
    "order of all the values that `suspect_race` takes, hence it is\n",
    "made the base group by default.\n",
    "\n",
    "However, in an analysis of disparities such as this, it is often useful to\n",
    "set the majority group (`suspect_race = \"white\"`) as the base group,\n",
    "so that each coefficient indicates the comparison of a minority group versus\n",
    "the majority group.\n"
   ]
  },
  {
   "cell_type": "markdown",
   "metadata": {},
   "source": [
    "\n",
    "\n",
    "#### Setting the base group\n",
    "\n",
    "\n",
    "This can be achieved by manually manipulating the order of factor levels.\n",
    "Recall that a `factor` is how `R` efficiently stores categorical variables.\n",
    "We can use the `factor` function to create a factor, and use the `levels` function\n",
    "to inspect what levels exist in a factor variable."
   ]
  },
  {
   "cell_type": "code",
   "execution_count": 18,
   "metadata": {},
   "outputs": [
    {
     "data": {
      "text/html": [
       "<ol class=list-inline>\n",
       "\t<li>'black'</li>\n",
       "\t<li>'hispanic'</li>\n",
       "\t<li>'white'</li>\n",
       "</ol>\n"
      ],
      "text/latex": [
       "\\begin{enumerate*}\n",
       "\\item 'black'\n",
       "\\item 'hispanic'\n",
       "\\item 'white'\n",
       "\\end{enumerate*}\n"
      ],
      "text/markdown": [
       "1. 'black'\n",
       "2. 'hispanic'\n",
       "3. 'white'\n",
       "\n",
       "\n"
      ],
      "text/plain": [
       "[1] \"black\"    \"hispanic\" \"white\"   "
      ]
     },
     "metadata": {},
     "output_type": "display_data"
    }
   ],
   "source": [
    "levels(stops$suspect_race)"
   ]
  },
  {
   "cell_type": "markdown",
   "metadata": {},
   "source": [
    "To change the first `level` of a `factor` variable, we can use the `relevel` function"
   ]
  },
  {
   "cell_type": "code",
   "execution_count": 19,
   "metadata": {},
   "outputs": [
    {
     "data": {
      "text/html": [
       "<ol class=list-inline>\n",
       "\t<li>'white'</li>\n",
       "\t<li>'black'</li>\n",
       "\t<li>'hispanic'</li>\n",
       "</ol>\n"
      ],
      "text/latex": [
       "\\begin{enumerate*}\n",
       "\\item 'white'\n",
       "\\item 'black'\n",
       "\\item 'hispanic'\n",
       "\\end{enumerate*}\n"
      ],
      "text/markdown": [
       "1. 'white'\n",
       "2. 'black'\n",
       "3. 'hispanic'\n",
       "\n",
       "\n"
      ],
      "text/plain": [
       "[1] \"white\"    \"black\"    \"hispanic\""
      ]
     },
     "metadata": {},
     "output_type": "display_data"
    }
   ],
   "source": [
    "stops <- stops %>%\n",
    "  mutate(suspect_race = relevel(stops$suspect_race, \"white\"))\n",
    "levels(stops$suspect_race)"
   ]
  },
  {
   "cell_type": "markdown",
   "metadata": {},
   "source": [
    "We can now refit the `base_model` so that the `suspect_race = \"white\"` group\n",
    "is the base group\n"
   ]
  },
  {
   "cell_type": "code",
   "execution_count": 20,
   "metadata": {},
   "outputs": [
    {
     "name": "stdout",
     "output_type": "stream",
     "text": [
      "\n",
      "Call:  glm(formula = frisked ~ suspect_race, family = binomial, data = stops)\n",
      "\n",
      "Coefficients:\n",
      "         (Intercept)     suspect_raceblack  suspect_racehispanic  \n",
      "              0.3045                0.7401                0.6333  \n",
      "\n",
      "Degrees of Freedom: 99999 Total (i.e. Null);  99997 Residual\n",
      "Null Deviance:\t    120100 \n",
      "Residual Deviance: 118800 \tAIC: 118800\n"
     ]
    }
   ],
   "source": [
    "base_model <- glm(frisked ~ suspect_race,\n",
    "                  data = stops,\n",
    "                  family = binomial)\n",
    "print(base_model)"
   ]
  },
  {
   "cell_type": "markdown",
   "metadata": {},
   "source": [
    "## Interpretation of logistic coefficients\n",
    "\n",
    "We can inspect the coefficients of the fitted model using the `coef` function"
   ]
  },
  {
   "cell_type": "code",
   "execution_count": 21,
   "metadata": {},
   "outputs": [
    {
     "data": {
      "text/html": [
       "<dl class=dl-horizontal>\n",
       "\t<dt>(Intercept)</dt>\n",
       "\t\t<dd>0.30449151289064</dd>\n",
       "\t<dt>suspect_raceblack</dt>\n",
       "\t\t<dd>0.740108080343621</dd>\n",
       "\t<dt>suspect_racehispanic</dt>\n",
       "\t\t<dd>0.633321706585389</dd>\n",
       "</dl>\n"
      ],
      "text/latex": [
       "\\begin{description*}\n",
       "\\item[(Intercept)] 0.30449151289064\n",
       "\\item[suspect\\textbackslash{}\\_raceblack] 0.740108080343621\n",
       "\\item[suspect\\textbackslash{}\\_racehispanic] 0.633321706585389\n",
       "\\end{description*}\n"
      ],
      "text/markdown": [
       "(Intercept)\n",
       ":   0.30449151289064suspect_raceblack\n",
       ":   0.740108080343621suspect_racehispanic\n",
       ":   0.633321706585389\n",
       "\n"
      ],
      "text/plain": [
       "         (Intercept)    suspect_raceblack suspect_racehispanic \n",
       "           0.3044915            0.7401081            0.6333217 "
      ]
     },
     "metadata": {},
     "output_type": "display_data"
    }
   ],
   "source": [
    "coef(base_model)"
   ]
  },
  {
   "cell_type": "markdown",
   "metadata": {},
   "source": [
    "The coefficient returned by a logistic regression in R is a logit, or the log of the odds.\n",
    "This is usually called \"log-odds\" for short.\n",
    "\n",
    "If p is a probability, then p/(1 − p) is the corresponding odds; the logit of the probability is the (natural) logarithm of the odds, i.e.\n",
    "\n",
    "\n",
    "$$\n",
    "\\mbox{logit}(p) = \\mbox{log}(\\frac{p}{1-p})\n",
    "$$\n",
    "\n",
    "For categorical variables, this represents the change in log-odds for a\n",
    "specific group (level), compared to the base group.\n",
    "\n",
    "Taking the exponential of the coefficients, we can\n",
    "find the odds ratio of each covariate compared to the base group."
   ]
  },
  {
   "cell_type": "code",
   "execution_count": 22,
   "metadata": {},
   "outputs": [
    {
     "data": {
      "text/html": [
       "<dl class=dl-horizontal>\n",
       "\t<dt>(Intercept)</dt>\n",
       "\t\t<dd>1.35593535203413</dd>\n",
       "\t<dt>suspect_raceblack</dt>\n",
       "\t\t<dd>2.09616205616711</dd>\n",
       "\t<dt>suspect_racehispanic</dt>\n",
       "\t\t<dd>1.88385782069759</dd>\n",
       "</dl>\n"
      ],
      "text/latex": [
       "\\begin{description*}\n",
       "\\item[(Intercept)] 1.35593535203413\n",
       "\\item[suspect\\textbackslash{}\\_raceblack] 2.09616205616711\n",
       "\\item[suspect\\textbackslash{}\\_racehispanic] 1.88385782069759\n",
       "\\end{description*}\n"
      ],
      "text/markdown": [
       "(Intercept)\n",
       ":   1.35593535203413suspect_raceblack\n",
       ":   2.09616205616711suspect_racehispanic\n",
       ":   1.88385782069759\n",
       "\n"
      ],
      "text/plain": [
       "         (Intercept)    suspect_raceblack suspect_racehispanic \n",
       "            1.355935             2.096162             1.883858 "
      ]
     },
     "metadata": {},
     "output_type": "display_data"
    }
   ],
   "source": [
    "exp(coef(base_model))"
   ]
  },
  {
   "cell_type": "markdown",
   "metadata": {},
   "source": [
    "\n",
    "Notice that in this model, the base group is `suspect_race = \"white\"`, and the\n",
    "exponential of the `suspect_raceblack` coefficient is equivalent to the odds\n",
    "ratio of being frisked for black individuals compared to white individuals,\n",
    "which we computed earlier.\n"
   ]
  },
  {
   "cell_type": "markdown",
   "metadata": {},
   "source": [
    "\n",
    "### Adjusting for multiple variables\n",
    "\n",
    "Now that we can fit a logistic regression to measure (log) odds ratios across different race groups,\n",
    "adjusting our estimate for various covariates is as simple as adding those covariates in our regression function.\n",
    "For example, if we wanted to adjust for `suspected_crime` (which includes `cpw`), we would simply fit the following model:"
   ]
  },
  {
   "cell_type": "code",
   "execution_count": 29,
   "metadata": {},
   "outputs": [
    {
     "data": {
      "text/html": [
       "<table>\n",
       "<caption>A tibble: 2 × 2</caption>\n",
       "<thead>\n",
       "\t<tr><th scope=col>term</th><th scope=col>odds_ratio</th></tr>\n",
       "\t<tr><th scope=col>&lt;chr&gt;</th><th scope=col>&lt;dbl&gt;</th></tr>\n",
       "</thead>\n",
       "<tbody>\n",
       "\t<tr><td>suspect_raceblack   </td><td>1.300687</td></tr>\n",
       "\t<tr><td>suspect_racehispanic</td><td>1.405759</td></tr>\n",
       "</tbody>\n",
       "</table>\n"
      ],
      "text/latex": [
       "A tibble: 2 × 2\n",
       "\\begin{tabular}{r|ll}\n",
       " term & odds\\_ratio\\\\\n",
       " <chr> & <dbl>\\\\\n",
       "\\hline\n",
       "\t suspect\\_raceblack    & 1.300687\\\\\n",
       "\t suspect\\_racehispanic & 1.405759\\\\\n",
       "\\end{tabular}\n"
      ],
      "text/markdown": [
       "\n",
       "A tibble: 2 × 2\n",
       "\n",
       "| term &lt;chr&gt; | odds_ratio &lt;dbl&gt; |\n",
       "|---|---|\n",
       "| suspect_raceblack    | 1.300687 |\n",
       "| suspect_racehispanic | 1.405759 |\n",
       "\n"
      ],
      "text/plain": [
       "  term                 odds_ratio\n",
       "1 suspect_raceblack    1.300687  \n",
       "2 suspect_racehispanic 1.405759  "
      ]
     },
     "metadata": {},
     "output_type": "display_data"
    }
   ],
   "source": [
    "model <- glm(frisked ~ suspect_race + suspected_crime,\n",
    "             data = stops, family = binomial)\n",
    "\n",
    "# Inspect coefficients for `suspect_race` covariates\n",
    "# \"broom\" is a a useful way to look at coefficients \n",
    "broom::tidy(model) %>%\n",
    "  filter(grepl(\"suspect_race\", term)) %>%\n",
    "  transmute(term, odds_ratio = exp(estimate))"
   ]
  },
  {
   "cell_type": "markdown",
   "metadata": {},
   "source": [
    "We can see that, even adjusting for `suspected_crime`, black individuals are"
   ]
  },
  {
   "cell_type": "code",
   "execution_count": 30,
   "metadata": {},
   "outputs": [
    {
     "data": {
      "text/html": [
       "'1.3'"
      ],
      "text/latex": [
       "'1.3'"
      ],
      "text/markdown": [
       "'1.3'"
      ],
      "text/plain": [
       "[1] \"1.3\""
      ]
     },
     "metadata": {},
     "output_type": "display_data"
    }
   ],
   "source": [
    "format(exp(coef(model)[[\"suspect_raceblack\"]]), digits = 3)"
   ]
  },
  {
   "cell_type": "markdown",
   "metadata": {},
   "source": [
    "times more likely\n",
    "to be frisked than white individuals.\n",
    "\n",
    "Of course, using a logistic regression, we can adjust for many more potentially legitimate\n",
    "covariates. It might make sense to further adjust for location (`precinct`) and other demographic\n",
    "information (`suspect_age` and `suspect_sex`)."
   ]
  },
  {
   "cell_type": "code",
   "execution_count": 61,
   "metadata": {},
   "outputs": [],
   "source": [
    "# Your code here!\n",
    "\n",
    "# Fit a logistic regression model while adjusting for\n",
    "# suspect_race, suspected_crime, precinct, suspect_age, and suspect_sex\n",
    "\n",
    "# START solution\n",
    "\n",
    "model <- glm(frisked ~ suspect_race + suspected_crime + precinct + suspect_age + suspect_sex,\n",
    "             data = stops, family = binomial)\n",
    "\n",
    "# END solution"
   ]
  },
  {
   "cell_type": "code",
   "execution_count": 62,
   "metadata": {},
   "outputs": [
    {
     "data": {
      "text/html": [
       "<table>\n",
       "<caption>A tibble: 2 × 2</caption>\n",
       "<thead>\n",
       "\t<tr><th scope=col>term</th><th scope=col>odds_ratio</th></tr>\n",
       "\t<tr><th scope=col>&lt;chr&gt;</th><th scope=col>&lt;dbl&gt;</th></tr>\n",
       "</thead>\n",
       "<tbody>\n",
       "\t<tr><td>suspect_racehispanic</td><td>0.9318276</td></tr>\n",
       "\t<tr><td>suspect_racewhite   </td><td>0.7899980</td></tr>\n",
       "</tbody>\n",
       "</table>\n"
      ],
      "text/latex": [
       "A tibble: 2 × 2\n",
       "\\begin{tabular}{r|ll}\n",
       " term & odds\\_ratio\\\\\n",
       " <chr> & <dbl>\\\\\n",
       "\\hline\n",
       "\t suspect\\_racehispanic & 0.9318276\\\\\n",
       "\t suspect\\_racewhite    & 0.7899980\\\\\n",
       "\\end{tabular}\n"
      ],
      "text/markdown": [
       "\n",
       "A tibble: 2 × 2\n",
       "\n",
       "| term &lt;chr&gt; | odds_ratio &lt;dbl&gt; |\n",
       "|---|---|\n",
       "| suspect_racehispanic | 0.9318276 |\n",
       "| suspect_racewhite    | 0.7899980 |\n",
       "\n"
      ],
      "text/plain": [
       "  term                 odds_ratio\n",
       "1 suspect_racehispanic 0.9318276 \n",
       "2 suspect_racewhite    0.7899980 "
      ]
     },
     "metadata": {},
     "output_type": "display_data"
    }
   ],
   "source": [
    "# Look at coefficients for `suspect_race` covariates\n",
    "# \"broom\" is a a useful way to look at coefficients \n",
    "broom::tidy(model) %>%\n",
    "  filter(grepl(\"suspect_race\", term)) %>%\n",
    "  transmute(term, odds_ratio = exp(estimate))"
   ]
  },
  {
   "cell_type": "markdown",
   "metadata": {},
   "source": [
    "But even after adjusting for all these covariates, we still find that black\n",
    "individuals are\n"
   ]
  },
  {
   "cell_type": "code",
   "execution_count": 63,
   "metadata": {},
   "outputs": [
    {
     "ename": "ERROR",
     "evalue": "Error in coef(model)[[\"suspect_raceblack\"]]: subscript out of bounds\n",
     "output_type": "error",
     "traceback": [
      "Error in coef(model)[[\"suspect_raceblack\"]]: subscript out of bounds\nTraceback:\n",
      "1. format(exp(coef(model)[[\"suspect_raceblack\"]]), digits = 3)"
     ]
    }
   ],
   "source": [
    "format(exp(coef(model)[[\"suspect_raceblack\"]]), digits = 3)"
   ]
  },
  {
   "cell_type": "markdown",
   "metadata": {},
   "source": [
    "times more likely to be frisked than white individuals."
   ]
  },
  {
   "cell_type": "markdown",
   "metadata": {},
   "source": [
    "\n",
    "### Contrasting probability and odds scales\n",
    "\n",
    "To better understand why it makes sense to use the odds ratio instead of\n",
    "probability, let's create a synthetic dataset of individuals. We will create\n",
    "this new dataset by choosing two individuals from the `stops` data, and creating\n",
    "copies of them, one with `suspect_race = \"white\"` and the other with\n",
    "`suspect_race = \"black\"`."
   ]
  },
  {
   "cell_type": "code",
   "execution_count": 35,
   "metadata": {},
   "outputs": [
    {
     "data": {
      "text/html": [
       "<table>\n",
       "<caption>A data.frame: 4 × 10</caption>\n",
       "<thead>\n",
       "\t<tr><th scope=col>id</th><th scope=col>date</th><th scope=col>time</th><th scope=col>precinct</th><th scope=col>suspect_race</th><th scope=col>suspect_sex</th><th scope=col>suspect_age</th><th scope=col>suspected_crime</th><th scope=col>frisked</th><th scope=col>found_weapon</th></tr>\n",
       "\t<tr><th scope=col>&lt;int&gt;</th><th scope=col>&lt;chr&gt;</th><th scope=col>&lt;chr&gt;</th><th scope=col>&lt;fct&gt;</th><th scope=col>&lt;chr&gt;</th><th scope=col>&lt;fct&gt;</th><th scope=col>&lt;int&gt;</th><th scope=col>&lt;fct&gt;</th><th scope=col>&lt;lgl&gt;</th><th scope=col>&lt;lgl&gt;</th></tr>\n",
       "</thead>\n",
       "<tbody>\n",
       "\t<tr><td>2272775</td><td>2010-04-13</td><td>23:55</td><td>41</td><td>white</td><td>male</td><td>18</td><td>robbery</td><td> TRUE</td><td>FALSE</td></tr>\n",
       "\t<tr><td>1471556</td><td>2008-11-25</td><td>10:43</td><td>20</td><td>white</td><td>male</td><td>27</td><td>other  </td><td>FALSE</td><td>FALSE</td></tr>\n",
       "\t<tr><td>2272775</td><td>2010-04-13</td><td>23:55</td><td>41</td><td>black</td><td>male</td><td>18</td><td>robbery</td><td> TRUE</td><td>FALSE</td></tr>\n",
       "\t<tr><td>1471556</td><td>2008-11-25</td><td>10:43</td><td>20</td><td>black</td><td>male</td><td>27</td><td>other  </td><td>FALSE</td><td>FALSE</td></tr>\n",
       "</tbody>\n",
       "</table>\n"
      ],
      "text/latex": [
       "A data.frame: 4 × 10\n",
       "\\begin{tabular}{r|llllllllll}\n",
       " id & date & time & precinct & suspect\\_race & suspect\\_sex & suspect\\_age & suspected\\_crime & frisked & found\\_weapon\\\\\n",
       " <int> & <chr> & <chr> & <fct> & <chr> & <fct> & <int> & <fct> & <lgl> & <lgl>\\\\\n",
       "\\hline\n",
       "\t 2272775 & 2010-04-13 & 23:55 & 41 & white & male & 18 & robbery &  TRUE & FALSE\\\\\n",
       "\t 1471556 & 2008-11-25 & 10:43 & 20 & white & male & 27 & other   & FALSE & FALSE\\\\\n",
       "\t 2272775 & 2010-04-13 & 23:55 & 41 & black & male & 18 & robbery &  TRUE & FALSE\\\\\n",
       "\t 1471556 & 2008-11-25 & 10:43 & 20 & black & male & 27 & other   & FALSE & FALSE\\\\\n",
       "\\end{tabular}\n"
      ],
      "text/markdown": [
       "\n",
       "A data.frame: 4 × 10\n",
       "\n",
       "| id &lt;int&gt; | date &lt;chr&gt; | time &lt;chr&gt; | precinct &lt;fct&gt; | suspect_race &lt;chr&gt; | suspect_sex &lt;fct&gt; | suspect_age &lt;int&gt; | suspected_crime &lt;fct&gt; | frisked &lt;lgl&gt; | found_weapon &lt;lgl&gt; |\n",
       "|---|---|---|---|---|---|---|---|---|---|\n",
       "| 2272775 | 2010-04-13 | 23:55 | 41 | white | male | 18 | robbery |  TRUE | FALSE |\n",
       "| 1471556 | 2008-11-25 | 10:43 | 20 | white | male | 27 | other   | FALSE | FALSE |\n",
       "| 2272775 | 2010-04-13 | 23:55 | 41 | black | male | 18 | robbery |  TRUE | FALSE |\n",
       "| 1471556 | 2008-11-25 | 10:43 | 20 | black | male | 27 | other   | FALSE | FALSE |\n",
       "\n"
      ],
      "text/plain": [
       "  id      date       time  precinct suspect_race suspect_sex suspect_age\n",
       "1 2272775 2010-04-13 23:55 41       white        male        18         \n",
       "2 1471556 2008-11-25 10:43 20       white        male        27         \n",
       "3 2272775 2010-04-13 23:55 41       black        male        18         \n",
       "4 1471556 2008-11-25 10:43 20       black        male        27         \n",
       "  suspected_crime frisked found_weapon\n",
       "1 robbery          TRUE   FALSE       \n",
       "2 other           FALSE   FALSE       \n",
       "3 robbery          TRUE   FALSE       \n",
       "4 other           FALSE   FALSE       "
      ]
     },
     "metadata": {},
     "output_type": "display_data"
    }
   ],
   "source": [
    "sample_individuals <- stops %>%\n",
    "  sample_n(2)\n",
    "\n",
    "fake_data <- bind_rows(\n",
    "    sample_individuals %>%\n",
    "      mutate(suspect_race = \"white\"),\n",
    "    sample_individuals %>%\n",
    "      mutate(suspect_race = \"black\")\n",
    ")\n",
    "fake_data "
   ]
  },
  {
   "cell_type": "markdown",
   "metadata": {},
   "source": [
    "\n",
    "Now, we will use our model from before to generate \"predictions\" of whether each individual will be frisked.\n",
    "Then, for each of the two initial samples, we have estimates for the probability of being frisked\n",
    "if `suspect_race = \"black\"` versus if `suspect_race = \"white\"`."
   ]
  },
  {
   "cell_type": "code",
   "execution_count": 36,
   "metadata": {},
   "outputs": [
    {
     "data": {
      "text/html": [
       "<table>\n",
       "<caption>A data.frame: 4 × 3</caption>\n",
       "<thead>\n",
       "\t<tr><th scope=col>id</th><th scope=col>suspect_race</th><th scope=col>p_frisk</th></tr>\n",
       "\t<tr><th scope=col>&lt;int&gt;</th><th scope=col>&lt;chr&gt;</th><th scope=col>&lt;dbl&gt;</th></tr>\n",
       "</thead>\n",
       "<tbody>\n",
       "\t<tr><td>2272775</td><td>white</td><td>0.7425906</td></tr>\n",
       "\t<tr><td>1471556</td><td>white</td><td>0.4056437</td></tr>\n",
       "\t<tr><td>2272775</td><td>black</td><td>0.7850264</td></tr>\n",
       "\t<tr><td>1471556</td><td>black</td><td>0.4634954</td></tr>\n",
       "</tbody>\n",
       "</table>\n"
      ],
      "text/latex": [
       "A data.frame: 4 × 3\n",
       "\\begin{tabular}{r|lll}\n",
       " id & suspect\\_race & p\\_frisk\\\\\n",
       " <int> & <chr> & <dbl>\\\\\n",
       "\\hline\n",
       "\t 2272775 & white & 0.7425906\\\\\n",
       "\t 1471556 & white & 0.4056437\\\\\n",
       "\t 2272775 & black & 0.7850264\\\\\n",
       "\t 1471556 & black & 0.4634954\\\\\n",
       "\\end{tabular}\n"
      ],
      "text/markdown": [
       "\n",
       "A data.frame: 4 × 3\n",
       "\n",
       "| id &lt;int&gt; | suspect_race &lt;chr&gt; | p_frisk &lt;dbl&gt; |\n",
       "|---|---|---|\n",
       "| 2272775 | white | 0.7425906 |\n",
       "| 1471556 | white | 0.4056437 |\n",
       "| 2272775 | black | 0.7850264 |\n",
       "| 1471556 | black | 0.4634954 |\n",
       "\n"
      ],
      "text/plain": [
       "  id      suspect_race p_frisk  \n",
       "1 2272775 white        0.7425906\n",
       "2 1471556 white        0.4056437\n",
       "3 2272775 black        0.7850264\n",
       "4 1471556 black        0.4634954"
      ]
     },
     "metadata": {},
     "output_type": "display_data"
    }
   ],
   "source": [
    "predicted_probs <- fake_data %>%\n",
    "  mutate(p_frisk = predict(model, fake_data, type = \"response\")) %>%\n",
    "  select(id, suspect_race, p_frisk)\n",
    "\n",
    "predicted_probs"
   ]
  },
  {
   "cell_type": "code",
   "execution_count": 39,
   "metadata": {},
   "outputs": [
    {
     "data": {
      "text/html": [
       "<table>\n",
       "<caption>A tibble: 2 × 3</caption>\n",
       "<thead>\n",
       "\t<tr><th scope=col>id</th><th scope=col>white</th><th scope=col>black</th></tr>\n",
       "\t<tr><th scope=col>&lt;int&gt;</th><th scope=col>&lt;dbl&gt;</th><th scope=col>&lt;dbl&gt;</th></tr>\n",
       "</thead>\n",
       "<tbody>\n",
       "\t<tr><td>2272775</td><td>0.7425906</td><td>0.7850264</td></tr>\n",
       "\t<tr><td>1471556</td><td>0.4056437</td><td>0.4634954</td></tr>\n",
       "</tbody>\n",
       "</table>\n"
      ],
      "text/latex": [
       "A tibble: 2 × 3\n",
       "\\begin{tabular}{r|lll}\n",
       " id & white & black\\\\\n",
       " <int> & <dbl> & <dbl>\\\\\n",
       "\\hline\n",
       "\t 2272775 & 0.7425906 & 0.7850264\\\\\n",
       "\t 1471556 & 0.4056437 & 0.4634954\\\\\n",
       "\\end{tabular}\n"
      ],
      "text/markdown": [
       "\n",
       "A tibble: 2 × 3\n",
       "\n",
       "| id &lt;int&gt; | white &lt;dbl&gt; | black &lt;dbl&gt; |\n",
       "|---|---|---|\n",
       "| 2272775 | 0.7425906 | 0.7850264 |\n",
       "| 1471556 | 0.4056437 | 0.4634954 |\n",
       "\n"
      ],
      "text/plain": [
       "  id      white     black    \n",
       "1 2272775 0.7425906 0.7850264\n",
       "2 1471556 0.4056437 0.4634954"
      ]
     },
     "metadata": {},
     "output_type": "display_data"
    }
   ],
   "source": [
    "# reshape predicted_probs for convenience\n",
    "predicted_probs_wider <- predicted_probs %>%\n",
    "    pivot_wider(names_from = suspect_race, values_from = p_frisk)\n",
    "\n",
    "predicted_probs_wider"
   ]
  },
  {
   "cell_type": "markdown",
   "metadata": {},
   "source": [
    "Notice that if we were to compare the difference in probability among the two\n",
    "cases across different race groups, we would have a different estimate, _even\n",
    "though in both cases, the only thing that has changed is_ `suspect_race`."
   ]
  },
  {
   "cell_type": "code",
   "execution_count": 40,
   "metadata": {},
   "outputs": [
    {
     "data": {
      "text/html": [
       "<table>\n",
       "<caption>A tibble: 2 × 4</caption>\n",
       "<thead>\n",
       "\t<tr><th scope=col>id</th><th scope=col>white</th><th scope=col>black</th><th scope=col>probability_difference</th></tr>\n",
       "\t<tr><th scope=col>&lt;int&gt;</th><th scope=col>&lt;dbl&gt;</th><th scope=col>&lt;dbl&gt;</th><th scope=col>&lt;dbl&gt;</th></tr>\n",
       "</thead>\n",
       "<tbody>\n",
       "\t<tr><td>2272775</td><td>0.7425906</td><td>0.7850264</td><td>0.04243578</td></tr>\n",
       "\t<tr><td>1471556</td><td>0.4056437</td><td>0.4634954</td><td>0.05785165</td></tr>\n",
       "</tbody>\n",
       "</table>\n"
      ],
      "text/latex": [
       "A tibble: 2 × 4\n",
       "\\begin{tabular}{r|llll}\n",
       " id & white & black & probability\\_difference\\\\\n",
       " <int> & <dbl> & <dbl> & <dbl>\\\\\n",
       "\\hline\n",
       "\t 2272775 & 0.7425906 & 0.7850264 & 0.04243578\\\\\n",
       "\t 1471556 & 0.4056437 & 0.4634954 & 0.05785165\\\\\n",
       "\\end{tabular}\n"
      ],
      "text/markdown": [
       "\n",
       "A tibble: 2 × 4\n",
       "\n",
       "| id &lt;int&gt; | white &lt;dbl&gt; | black &lt;dbl&gt; | probability_difference &lt;dbl&gt; |\n",
       "|---|---|---|---|\n",
       "| 2272775 | 0.7425906 | 0.7850264 | 0.04243578 |\n",
       "| 1471556 | 0.4056437 | 0.4634954 | 0.05785165 |\n",
       "\n"
      ],
      "text/plain": [
       "  id      white     black     probability_difference\n",
       "1 2272775 0.7425906 0.7850264 0.04243578            \n",
       "2 1471556 0.4056437 0.4634954 0.05785165            "
      ]
     },
     "metadata": {},
     "output_type": "display_data"
    }
   ],
   "source": [
    "predicted_probs_wider %>%\n",
    "  mutate(probability_difference = black - white)"
   ]
  },
  {
   "cell_type": "markdown",
   "metadata": {},
   "source": [
    "However, if we compare the odds ratio for black versus white for the two cases,\n",
    "we will find that it is equal, and exactly the exponential of the\n",
    "`suspect_raceblack` coefficient from the `model`:"
   ]
  },
  {
   "cell_type": "code",
   "execution_count": 42,
   "metadata": {},
   "outputs": [
    {
     "data": {
      "text/html": [
       "<table>\n",
       "<caption>A tibble: 2 × 6</caption>\n",
       "<thead>\n",
       "\t<tr><th scope=col>id</th><th scope=col>white</th><th scope=col>black</th><th scope=col>odds_black</th><th scope=col>odds_white</th><th scope=col>odds_ratio</th></tr>\n",
       "\t<tr><th scope=col>&lt;int&gt;</th><th scope=col>&lt;dbl&gt;</th><th scope=col>&lt;dbl&gt;</th><th scope=col>&lt;dbl&gt;</th><th scope=col>&lt;dbl&gt;</th><th scope=col>&lt;dbl&gt;</th></tr>\n",
       "</thead>\n",
       "<tbody>\n",
       "\t<tr><td>2272775</td><td>0.7425906</td><td>0.7850264</td><td>3.6517331</td><td>2.8848617</td><td>1.265826</td></tr>\n",
       "\t<tr><td>1471556</td><td>0.4056437</td><td>0.4634954</td><td>0.8639168</td><td>0.6824926</td><td>1.265826</td></tr>\n",
       "</tbody>\n",
       "</table>\n"
      ],
      "text/latex": [
       "A tibble: 2 × 6\n",
       "\\begin{tabular}{r|llllll}\n",
       " id & white & black & odds\\_black & odds\\_white & odds\\_ratio\\\\\n",
       " <int> & <dbl> & <dbl> & <dbl> & <dbl> & <dbl>\\\\\n",
       "\\hline\n",
       "\t 2272775 & 0.7425906 & 0.7850264 & 3.6517331 & 2.8848617 & 1.265826\\\\\n",
       "\t 1471556 & 0.4056437 & 0.4634954 & 0.8639168 & 0.6824926 & 1.265826\\\\\n",
       "\\end{tabular}\n"
      ],
      "text/markdown": [
       "\n",
       "A tibble: 2 × 6\n",
       "\n",
       "| id &lt;int&gt; | white &lt;dbl&gt; | black &lt;dbl&gt; | odds_black &lt;dbl&gt; | odds_white &lt;dbl&gt; | odds_ratio &lt;dbl&gt; |\n",
       "|---|---|---|---|---|---|\n",
       "| 2272775 | 0.7425906 | 0.7850264 | 3.6517331 | 2.8848617 | 1.265826 |\n",
       "| 1471556 | 0.4056437 | 0.4634954 | 0.8639168 | 0.6824926 | 1.265826 |\n",
       "\n"
      ],
      "text/plain": [
       "  id      white     black     odds_black odds_white odds_ratio\n",
       "1 2272775 0.7425906 0.7850264 3.6517331  2.8848617  1.265826  \n",
       "2 1471556 0.4056437 0.4634954 0.8639168  0.6824926  1.265826  "
      ]
     },
     "metadata": {},
     "output_type": "display_data"
    }
   ],
   "source": [
    "predicted_probs_wider %>%\n",
    "  mutate(\n",
    "      odds_black = black / (1 - black),\n",
    "      odds_white = white / (1 - white), \n",
    "      odds_ratio = odds_black / odds_white\n",
    "  )"
   ]
  },
  {
   "cell_type": "code",
   "execution_count": 43,
   "metadata": {},
   "outputs": [
    {
     "data": {
      "text/html": [
       "'1.27'"
      ],
      "text/latex": [
       "'1.27'"
      ],
      "text/markdown": [
       "'1.27'"
      ],
      "text/plain": [
       "[1] \"1.27\""
      ]
     },
     "metadata": {},
     "output_type": "display_data"
    }
   ],
   "source": [
    "# suspect_raceblack coefficient from our model\n",
    "format(exp(coef(model)[[\"suspect_raceblack\"]]), digits = 3)"
   ]
  },
  {
   "cell_type": "markdown",
   "metadata": {},
   "source": [
    "\n",
    "## Question 2: Designing policies\n",
    "\n",
    "We now turn to our second question: can we use data to build a\n",
    "statistically driven frisk policy?\n",
    "Such a policy can often be constructed in the following two steps:\n",
    "\n",
    "1. Fit a statistical model to estimate _risk_\n",
    "1. Set a threshold at which the decision is made.\n",
    "\n",
    "For the example of deciding whether or not to frisk individuals who have \n",
    "been stopped, the _risk_ is the probability that a weapon is recovered\n",
    "if we were to frisk the individual.\n",
    "We would like to frisk only the individuals that are most likely to carry a weapon.\n",
    "Then the policy would be to frisk individuals whose estimated probability of\n",
    "carrying a weapon is greater than some pre-selected value that we consider optimal.\n",
    "\n",
    "<!-- [TODO: we want to frisk the highest likely people to have, we frisk those whose probabilit is  > cost ] -->\n",
    "\n",
    "We will take a closer look at each of these steps below.\n",
    "\n",
    "\n",
    "### Estimating risk\n",
    "\n",
    "The only legal reason for an officer to conduct a frisk is for officer\n",
    "safety. In other words, the only justified goal of a frisk is to recover\n",
    "weapons.\n",
    "For an individual $i$, let $X_i$ be all the information we know about the\n",
    "individual prior to making the frisk decision, and define\n",
    "\n",
    "\n",
    "$$\n",
    "Y_i =\n",
    "\\begin{cases}\n",
    "1 & \\textrm{if weapon is found on individual } i \\\\\n",
    "0 & \\textrm{otherwise}\n",
    "\\end{cases}\n",
    "$$\n",
    "\n",
    "\n",
    "Then, the _risk_ we are interested in measuring can be written as\n",
    "\n",
    "$$\n",
    "r_i = \\Pr(Y_i = 1 ~|~ X_i)\n",
    "$$\n",
    "\n",
    "\n",
    "\n",
    "In other words, we wish to estimate the probability that we will recover a \n",
    "weapon from an individual, characterized by covariates $X_i$, if we were to \n",
    "frisk them.\n",
    "\n",
    "One way to estimate this probability is to fit a logistic regression on the\n",
    "subset of individuals who were frisked, to predict whether a weapon will be\n",
    "found, using all the covariates that an officer observed prior to conducting the\n",
    "frisk. \n"
   ]
  },
  {
   "cell_type": "code",
   "execution_count": 44,
   "metadata": {},
   "outputs": [],
   "source": [
    "frisked_df <- stops %>% \n",
    "  filter(frisked == TRUE)\n",
    "  \n",
    "risk_model <- glm(found_weapon ~ suspect_sex + suspect_age + suspected_crime + precinct, \n",
    "                  data = frisked_df,\n",
    "                  family = binomial)"
   ]
  },
  {
   "cell_type": "markdown",
   "metadata": {},
   "source": [
    "Once we have the risk model, we can generate predictions for the full population \n",
    "of data:"
   ]
  },
  {
   "cell_type": "code",
   "execution_count": 47,
   "metadata": {},
   "outputs": [
    {
     "data": {
      "text/html": [
       "<table>\n",
       "<caption>A data.frame: 6 × 11</caption>\n",
       "<thead>\n",
       "\t<tr><th scope=col>id</th><th scope=col>date</th><th scope=col>time</th><th scope=col>precinct</th><th scope=col>suspect_race</th><th scope=col>suspect_sex</th><th scope=col>suspect_age</th><th scope=col>suspected_crime</th><th scope=col>frisked</th><th scope=col>found_weapon</th><th scope=col>risk</th></tr>\n",
       "\t<tr><th scope=col>&lt;int&gt;</th><th scope=col>&lt;chr&gt;</th><th scope=col>&lt;chr&gt;</th><th scope=col>&lt;fct&gt;</th><th scope=col>&lt;fct&gt;</th><th scope=col>&lt;fct&gt;</th><th scope=col>&lt;int&gt;</th><th scope=col>&lt;fct&gt;</th><th scope=col>&lt;lgl&gt;</th><th scope=col>&lt;lgl&gt;</th><th scope=col>&lt;dbl&gt;</th></tr>\n",
       "</thead>\n",
       "<tbody>\n",
       "\t<tr><td>2686798</td><td>2010-12-17</td><td>15:15</td><td>83 </td><td>hispanic</td><td>male</td><td>12</td><td>burglary          </td><td> TRUE</td><td>FALSE</td><td>0.007787479</td></tr>\n",
       "\t<tr><td>2075967</td><td>2009-12-08</td><td>15:19</td><td>40 </td><td>black   </td><td>male</td><td>19</td><td>cpw               </td><td> TRUE</td><td> TRUE</td><td>0.030162829</td></tr>\n",
       "\t<tr><td>1268296</td><td>2008-07-12</td><td>14:45</td><td>13 </td><td>black   </td><td>male</td><td>47</td><td>grand larceny     </td><td>FALSE</td><td>FALSE</td><td>0.020983237</td></tr>\n",
       "\t<tr><td>2522700</td><td>2010-09-08</td><td>21:55</td><td>43 </td><td>black   </td><td>male</td><td>23</td><td>cpw               </td><td> TRUE</td><td>FALSE</td><td>0.017451628</td></tr>\n",
       "\t<tr><td>2722653</td><td>2011-01-13</td><td>23:28</td><td>120</td><td>black   </td><td>male</td><td>30</td><td>robbery           </td><td> TRUE</td><td>FALSE</td><td>0.005656276</td></tr>\n",
       "\t<tr><td>2333983</td><td>2010-05-12</td><td>19:55</td><td>62 </td><td>white   </td><td>male</td><td>24</td><td>grand larceny auto</td><td> TRUE</td><td>FALSE</td><td>0.033206244</td></tr>\n",
       "</tbody>\n",
       "</table>\n"
      ],
      "text/latex": [
       "A data.frame: 6 × 11\n",
       "\\begin{tabular}{r|lllllllllll}\n",
       " id & date & time & precinct & suspect\\_race & suspect\\_sex & suspect\\_age & suspected\\_crime & frisked & found\\_weapon & risk\\\\\n",
       " <int> & <chr> & <chr> & <fct> & <fct> & <fct> & <int> & <fct> & <lgl> & <lgl> & <dbl>\\\\\n",
       "\\hline\n",
       "\t 2686798 & 2010-12-17 & 15:15 & 83  & hispanic & male & 12 & burglary           &  TRUE & FALSE & 0.007787479\\\\\n",
       "\t 2075967 & 2009-12-08 & 15:19 & 40  & black    & male & 19 & cpw                &  TRUE &  TRUE & 0.030162829\\\\\n",
       "\t 1268296 & 2008-07-12 & 14:45 & 13  & black    & male & 47 & grand larceny      & FALSE & FALSE & 0.020983237\\\\\n",
       "\t 2522700 & 2010-09-08 & 21:55 & 43  & black    & male & 23 & cpw                &  TRUE & FALSE & 0.017451628\\\\\n",
       "\t 2722653 & 2011-01-13 & 23:28 & 120 & black    & male & 30 & robbery            &  TRUE & FALSE & 0.005656276\\\\\n",
       "\t 2333983 & 2010-05-12 & 19:55 & 62  & white    & male & 24 & grand larceny auto &  TRUE & FALSE & 0.033206244\\\\\n",
       "\\end{tabular}\n"
      ],
      "text/markdown": [
       "\n",
       "A data.frame: 6 × 11\n",
       "\n",
       "| id &lt;int&gt; | date &lt;chr&gt; | time &lt;chr&gt; | precinct &lt;fct&gt; | suspect_race &lt;fct&gt; | suspect_sex &lt;fct&gt; | suspect_age &lt;int&gt; | suspected_crime &lt;fct&gt; | frisked &lt;lgl&gt; | found_weapon &lt;lgl&gt; | risk &lt;dbl&gt; |\n",
       "|---|---|---|---|---|---|---|---|---|---|---|\n",
       "| 2686798 | 2010-12-17 | 15:15 | 83  | hispanic | male | 12 | burglary           |  TRUE | FALSE | 0.007787479 |\n",
       "| 2075967 | 2009-12-08 | 15:19 | 40  | black    | male | 19 | cpw                |  TRUE |  TRUE | 0.030162829 |\n",
       "| 1268296 | 2008-07-12 | 14:45 | 13  | black    | male | 47 | grand larceny      | FALSE | FALSE | 0.020983237 |\n",
       "| 2522700 | 2010-09-08 | 21:55 | 43  | black    | male | 23 | cpw                |  TRUE | FALSE | 0.017451628 |\n",
       "| 2722653 | 2011-01-13 | 23:28 | 120 | black    | male | 30 | robbery            |  TRUE | FALSE | 0.005656276 |\n",
       "| 2333983 | 2010-05-12 | 19:55 | 62  | white    | male | 24 | grand larceny auto |  TRUE | FALSE | 0.033206244 |\n",
       "\n"
      ],
      "text/plain": [
       "  id      date       time  precinct suspect_race suspect_sex suspect_age\n",
       "1 2686798 2010-12-17 15:15 83       hispanic     male        12         \n",
       "2 2075967 2009-12-08 15:19 40       black        male        19         \n",
       "3 1268296 2008-07-12 14:45 13       black        male        47         \n",
       "4 2522700 2010-09-08 21:55 43       black        male        23         \n",
       "5 2722653 2011-01-13 23:28 120      black        male        30         \n",
       "6 2333983 2010-05-12 19:55 62       white        male        24         \n",
       "  suspected_crime    frisked found_weapon risk       \n",
       "1 burglary            TRUE   FALSE        0.007787479\n",
       "2 cpw                 TRUE    TRUE        0.030162829\n",
       "3 grand larceny      FALSE   FALSE        0.020983237\n",
       "4 cpw                 TRUE   FALSE        0.017451628\n",
       "5 robbery             TRUE   FALSE        0.005656276\n",
       "6 grand larceny auto  TRUE   FALSE        0.033206244"
      ]
     },
     "metadata": {},
     "output_type": "display_data"
    }
   ],
   "source": [
    "stops <- stops %>% \n",
    "  mutate(risk = predict(risk_model, stops, type = \"response\"))\n",
    "\n",
    "head(stops)"
   ]
  },
  {
   "cell_type": "markdown",
   "metadata": {},
   "source": [
    "\n",
    "### Finding an optimal threshold\n",
    "\n",
    "Given risk estimates, we can now propose a policy by setting a threshold on \n",
    "the predicted probability of finding a weapon.\n",
    "Finding an optimal threshold, however, will depend largely on the various \n",
    "cost/benefits associated with a frisk.\n",
    "\n",
    "One thing to consider when determining an optimal threshold, for example, \n",
    "might be the proportion of weapons that are recovered, as a function \n",
    "of how many people are frisked.\n",
    "\n",
    "From a technical point-of-view, we can compute and plot this trade-off by first\n",
    "sorting our data frame in decreasing order of the estimated risk. Then, compute\n",
    "a running tally of the proportion of stopped individuals who are frisked (i.e.,\n",
    "higher risk individuals are frisked first), as well as the proportion of weapons\n",
    "that are recovered.\n",
    "A running tally, or cumulative sum, can be computed using the `cumsum` function.\n"
   ]
  },
  {
   "cell_type": "code",
   "execution_count": 48,
   "metadata": {},
   "outputs": [],
   "source": [
    "# Your code here!\n",
    "\n",
    "# Calculate \n",
    "# prop_frisk: proportion of people frisked by frisking k individuals\n",
    "# num_weapons_found: number of total weaspons found by frisking the top k riskest individuals\n",
    "# prop_weapons_found: proportion of total weaspons found by frisking the top k riskest individuals\n",
    "# with k ranging from 1 to all people in the dataset\n",
    "\n",
    "# START solution\n",
    "\n",
    "stops <- stops %>%\n",
    "  arrange(desc(risk)) %>%\n",
    "  mutate(\n",
    "    # n() is the number of rows in the data frame (i.e., the total nr of stops)\n",
    "    k = 1:n(),    \n",
    "    # We \"frisk\" the riskiest people first, i.e., from top to bottom\n",
    "    prop_frisk = k / n(),  \n",
    "    # calculate running sum of weapons found with each additional stop\n",
    "    num_weapons_found = cumsum(found_weapon),   \n",
    "    prop_weapons_found = num_weapons_found/sum(found_weapon)\n",
    "  )\n",
    "\n",
    "\n",
    "# END solution"
   ]
  },
  {
   "cell_type": "code",
   "execution_count": 49,
   "metadata": {},
   "outputs": [
    {
     "data": {
      "text/html": [
       "<table>\n",
       "<caption>A data.frame: 10 × 7</caption>\n",
       "<thead>\n",
       "\t<tr><th scope=col>id</th><th scope=col>risk</th><th scope=col>k</th><th scope=col>prop_frisk</th><th scope=col>found_weapon</th><th scope=col>num_weapons_found</th><th scope=col>prop_weapons_found</th></tr>\n",
       "\t<tr><th scope=col>&lt;int&gt;</th><th scope=col>&lt;dbl&gt;</th><th scope=col>&lt;int&gt;</th><th scope=col>&lt;dbl&gt;</th><th scope=col>&lt;lgl&gt;</th><th scope=col>&lt;int&gt;</th><th scope=col>&lt;dbl&gt;</th></tr>\n",
       "</thead>\n",
       "<tbody>\n",
       "\t<tr><td>1514061</td><td>0.4835364</td><td> 1</td><td>1e-05</td><td>FALSE</td><td>0</td><td>0.0000000000</td></tr>\n",
       "\t<tr><td>1217202</td><td>0.4296577</td><td> 2</td><td>2e-05</td><td>FALSE</td><td>0</td><td>0.0000000000</td></tr>\n",
       "\t<tr><td>1811434</td><td>0.4239015</td><td> 3</td><td>3e-05</td><td>FALSE</td><td>0</td><td>0.0000000000</td></tr>\n",
       "\t<tr><td>1016518</td><td>0.4118351</td><td> 4</td><td>4e-05</td><td>FALSE</td><td>0</td><td>0.0000000000</td></tr>\n",
       "\t<tr><td>1315753</td><td>0.4086701</td><td> 5</td><td>5e-05</td><td> TRUE</td><td>1</td><td>0.0004338395</td></tr>\n",
       "\t<tr><td>1603699</td><td>0.4036302</td><td> 6</td><td>6e-05</td><td> TRUE</td><td>2</td><td>0.0008676790</td></tr>\n",
       "\t<tr><td>1216421</td><td>0.4036302</td><td> 7</td><td>7e-05</td><td> TRUE</td><td>3</td><td>0.0013015184</td></tr>\n",
       "\t<tr><td>2180742</td><td>0.4011178</td><td> 8</td><td>8e-05</td><td> TRUE</td><td>4</td><td>0.0017353579</td></tr>\n",
       "\t<tr><td>1657155</td><td>0.4011178</td><td> 9</td><td>9e-05</td><td> TRUE</td><td>5</td><td>0.0021691974</td></tr>\n",
       "\t<tr><td>2448348</td><td>0.3961086</td><td>10</td><td>1e-04</td><td>FALSE</td><td>5</td><td>0.0021691974</td></tr>\n",
       "</tbody>\n",
       "</table>\n"
      ],
      "text/latex": [
       "A data.frame: 10 × 7\n",
       "\\begin{tabular}{r|lllllll}\n",
       " id & risk & k & prop\\_frisk & found\\_weapon & num\\_weapons\\_found & prop\\_weapons\\_found\\\\\n",
       " <int> & <dbl> & <int> & <dbl> & <lgl> & <int> & <dbl>\\\\\n",
       "\\hline\n",
       "\t 1514061 & 0.4835364 &  1 & 1e-05 & FALSE & 0 & 0.0000000000\\\\\n",
       "\t 1217202 & 0.4296577 &  2 & 2e-05 & FALSE & 0 & 0.0000000000\\\\\n",
       "\t 1811434 & 0.4239015 &  3 & 3e-05 & FALSE & 0 & 0.0000000000\\\\\n",
       "\t 1016518 & 0.4118351 &  4 & 4e-05 & FALSE & 0 & 0.0000000000\\\\\n",
       "\t 1315753 & 0.4086701 &  5 & 5e-05 &  TRUE & 1 & 0.0004338395\\\\\n",
       "\t 1603699 & 0.4036302 &  6 & 6e-05 &  TRUE & 2 & 0.0008676790\\\\\n",
       "\t 1216421 & 0.4036302 &  7 & 7e-05 &  TRUE & 3 & 0.0013015184\\\\\n",
       "\t 2180742 & 0.4011178 &  8 & 8e-05 &  TRUE & 4 & 0.0017353579\\\\\n",
       "\t 1657155 & 0.4011178 &  9 & 9e-05 &  TRUE & 5 & 0.0021691974\\\\\n",
       "\t 2448348 & 0.3961086 & 10 & 1e-04 & FALSE & 5 & 0.0021691974\\\\\n",
       "\\end{tabular}\n"
      ],
      "text/markdown": [
       "\n",
       "A data.frame: 10 × 7\n",
       "\n",
       "| id &lt;int&gt; | risk &lt;dbl&gt; | k &lt;int&gt; | prop_frisk &lt;dbl&gt; | found_weapon &lt;lgl&gt; | num_weapons_found &lt;int&gt; | prop_weapons_found &lt;dbl&gt; |\n",
       "|---|---|---|---|---|---|---|\n",
       "| 1514061 | 0.4835364 |  1 | 1e-05 | FALSE | 0 | 0.0000000000 |\n",
       "| 1217202 | 0.4296577 |  2 | 2e-05 | FALSE | 0 | 0.0000000000 |\n",
       "| 1811434 | 0.4239015 |  3 | 3e-05 | FALSE | 0 | 0.0000000000 |\n",
       "| 1016518 | 0.4118351 |  4 | 4e-05 | FALSE | 0 | 0.0000000000 |\n",
       "| 1315753 | 0.4086701 |  5 | 5e-05 |  TRUE | 1 | 0.0004338395 |\n",
       "| 1603699 | 0.4036302 |  6 | 6e-05 |  TRUE | 2 | 0.0008676790 |\n",
       "| 1216421 | 0.4036302 |  7 | 7e-05 |  TRUE | 3 | 0.0013015184 |\n",
       "| 2180742 | 0.4011178 |  8 | 8e-05 |  TRUE | 4 | 0.0017353579 |\n",
       "| 1657155 | 0.4011178 |  9 | 9e-05 |  TRUE | 5 | 0.0021691974 |\n",
       "| 2448348 | 0.3961086 | 10 | 1e-04 | FALSE | 5 | 0.0021691974 |\n",
       "\n"
      ],
      "text/plain": [
       "   id      risk      k  prop_frisk found_weapon num_weapons_found\n",
       "1  1514061 0.4835364  1 1e-05      FALSE        0                \n",
       "2  1217202 0.4296577  2 2e-05      FALSE        0                \n",
       "3  1811434 0.4239015  3 3e-05      FALSE        0                \n",
       "4  1016518 0.4118351  4 4e-05      FALSE        0                \n",
       "5  1315753 0.4086701  5 5e-05       TRUE        1                \n",
       "6  1603699 0.4036302  6 6e-05       TRUE        2                \n",
       "7  1216421 0.4036302  7 7e-05       TRUE        3                \n",
       "8  2180742 0.4011178  8 8e-05       TRUE        4                \n",
       "9  1657155 0.4011178  9 9e-05       TRUE        5                \n",
       "10 2448348 0.3961086 10 1e-04      FALSE        5                \n",
       "   prop_weapons_found\n",
       "1  0.0000000000      \n",
       "2  0.0000000000      \n",
       "3  0.0000000000      \n",
       "4  0.0000000000      \n",
       "5  0.0004338395      \n",
       "6  0.0008676790      \n",
       "7  0.0013015184      \n",
       "8  0.0017353579      \n",
       "9  0.0021691974      \n",
       "10 0.0021691974      "
      ]
     },
     "metadata": {},
     "output_type": "display_data"
    },
    {
     "data": {
      "image/png": "[encoded data removed]",
      "text/plain": [
       "plot without title"
      ]
     },
     "metadata": {},
     "output_type": "display_data"
    }
   ],
   "source": [
    "# let's inspect our newly created columns\n",
    "head(stops %>%\n",
    "       select(id, risk, k, prop_frisk, found_weapon, num_weapons_found, prop_weapons_found),\n",
    "     n=10)\n",
    "\n",
    "tradeoff_plot <- ggplot(stops, aes(x = prop_frisk, y = prop_weapons_found)) +\n",
    "  geom_line() +\n",
    "  scale_x_continuous(\"\\nProportion of stops that are frisked\",\n",
    "                     labels = scales::percent_format(1),\n",
    "                     expand = c(0, 0)) +\n",
    "  scale_y_continuous(\"Proportion of weapons recovered\\n\",\n",
    "                     labels = scales::percent_format(1),\n",
    "                     expand = c(0, 0))\n",
    "tradeoff_plot"
   ]
  },
  {
   "cell_type": "markdown",
   "metadata": {},
   "source": [
    "Given this trade-off, we can now find the optimal policy based on various\n",
    "cost/benefit constraints.\n",
    "For example, if we were to require that at least 50% of all weapons must be recovered, \n",
    "while frisking as few people as possible, we could find the threshold to be the\n",
    "lowest value of risk where we recover at least 50% of all weapons."
   ]
  },
  {
   "cell_type": "code",
   "execution_count": 50,
   "metadata": {},
   "outputs": [
    {
     "data": {
      "image/png": "[encoded data removed]",
      "text/plain": [
       "plot without title"
      ]
     },
     "metadata": {},
     "output_type": "display_data"
    }
   ],
   "source": [
    "threshold <- stops %>% \n",
    "  filter(prop_weapons_found >= .5) %>% \n",
    "  arrange(desc(risk)) %>% \n",
    "  slice(1) \n",
    "\n",
    "tradeoff_plot +\n",
    "  geom_vline(xintercept = threshold$prop_frisk,\n",
    "             linetype = \"dashed\")"
   ]
  },
  {
   "cell_type": "markdown",
   "metadata": {},
   "source": [
    "We can see that this is acheived by setting a threshold of"
   ]
  },
  {
   "cell_type": "code",
   "execution_count": 58,
   "metadata": {},
   "outputs": [
    {
     "data": {
      "text/html": [
       "'6%'"
      ],
      "text/latex": [
       "'6\\%'"
      ],
      "text/markdown": [
       "'6%'"
      ],
      "text/plain": [
       "[1] \"6%\""
      ]
     },
     "metadata": {},
     "output_type": "display_data"
    }
   ],
   "source": [
    "scales::percent(threshold$risk)"
   ]
  },
  {
   "cell_type": "markdown",
   "metadata": {},
   "source": [
    "i.e., only frisk an individual if the predicted probability of recovering a weapon is greater than that.\n",
    "And if we were to implement this policy, we expect about"
   ]
  },
  {
   "cell_type": "code",
   "execution_count": 59,
   "metadata": {},
   "outputs": [
    {
     "data": {
      "text/html": [
       "'13%'"
      ],
      "text/latex": [
       "'13\\%'"
      ],
      "text/markdown": [
       "'13%'"
      ],
      "text/plain": [
       "[1] \"13%\""
      ]
     },
     "metadata": {},
     "output_type": "display_data"
    }
   ],
   "source": [
    "scales::percent(threshold$prop_frisk)"
   ]
  },
  {
   "cell_type": "markdown",
   "metadata": {},
   "source": [
    "of stopped individuals to be frisked as a result, compared to the current frisk rate of:"
   ]
  },
  {
   "cell_type": "code",
   "execution_count": 54,
   "metadata": {},
   "outputs": [
    {
     "data": {
      "text/html": [
       "'71%'"
      ],
      "text/latex": [
       "'71\\%'"
      ],
      "text/markdown": [
       "'71%'"
      ],
      "text/plain": [
       "[1] \"71%\""
      ]
     },
     "metadata": {},
     "output_type": "display_data"
    }
   ],
   "source": [
    "# Proportion of \n",
    "scales::percent(mean(stops$frisked))"
   ]
  },
  {
   "cell_type": "markdown",
   "metadata": {},
   "source": [
    "### Footnote:\n",
    "\n",
    "<a name=\"myfootnote1\">1</a>. https://en.wikipedia.org/wiki/Stop-and-frisk_in_New_York_City &nbsp;&nbsp;&nbsp; [\\[go back\\]](#myfootnote1_back)\n",
    "\n",
    "<a name=\"myfootnote2\">2</a>. As usual, see `?glm` for details. &nbsp;&nbsp;&nbsp; [\\[go back\\]](#myfootnote2_back)"
   ]
  }
 ],
 "metadata": {
  "kernelspec": {
   "display_name": "R",
   "language": "R",
   "name": "ir"
  },
  "language_info": {
   "codemirror_mode": "r",
   "file_extension": ".r",
   "mimetype": "text/x-r-source",
   "name": "R",
   "pygments_lexer": "r",
   "version": "3.6.3"
  }
 },
 "nbformat": 4,
 "nbformat_minor": 4
}
