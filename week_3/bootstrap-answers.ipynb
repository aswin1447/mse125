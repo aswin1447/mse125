{
 "cells": [
  {
   "cell_type": "markdown",
   "metadata": {},
   "source": [
    "# Week 3 Discussion: The Bootstrap"
   ]
  },
  {
   "cell_type": "markdown",
   "metadata": {},
   "source": [
    "![sf-boots](img/sf-boots.jpg)"
   ]
  },
  {
   "cell_type": "code",
   "execution_count": 67,
   "metadata": {},
   "outputs": [],
   "source": [
    "set.seed(125)\n",
    "\n",
    "library(tidyverse)\n",
    "\n",
    "theme_set(theme_bw())"
   ]
  },
  {
   "cell_type": "markdown",
   "metadata": {},
   "source": [
    "## Setup\n",
    "\n",
    "For this section, we will work with salary data from 2014 for SF city employees \n",
    "(derived from the \n",
    "[Kaggle SF Salaries dataset](https://www.kaggle.com/kaggle/sf-salaries))."
   ]
  },
  {
   "cell_type": "code",
   "execution_count": 68,
   "metadata": {},
   "outputs": [
    {
     "name": "stderr",
     "output_type": "stream",
     "text": [
      "Parsed with column specification:\n",
      "cols(\n",
      "  JobTitle = \u001b[31mcol_character()\u001b[39m,\n",
      "  BasePay = \u001b[32mcol_double()\u001b[39m,\n",
      "  OvertimePay = \u001b[32mcol_double()\u001b[39m,\n",
      "  OtherPay = \u001b[32mcol_double()\u001b[39m,\n",
      "  Benefits = \u001b[32mcol_double()\u001b[39m,\n",
      "  TotalPay = \u001b[32mcol_double()\u001b[39m,\n",
      "  TotalPayBenefits = \u001b[32mcol_double()\u001b[39m,\n",
      "  Year = \u001b[32mcol_double()\u001b[39m\n",
      ")\n"
     ]
    },
    {
     "data": {
      "text/html": [
       "<table>\n",
       "<caption>A spec_tbl_df: 5 × 8</caption>\n",
       "<thead>\n",
       "\t<tr><th scope=col>JobTitle</th><th scope=col>BasePay</th><th scope=col>OvertimePay</th><th scope=col>OtherPay</th><th scope=col>Benefits</th><th scope=col>TotalPay</th><th scope=col>TotalPayBenefits</th><th scope=col>Year</th></tr>\n",
       "\t<tr><th scope=col>&lt;chr&gt;</th><th scope=col>&lt;dbl&gt;</th><th scope=col>&lt;dbl&gt;</th><th scope=col>&lt;dbl&gt;</th><th scope=col>&lt;dbl&gt;</th><th scope=col>&lt;dbl&gt;</th><th scope=col>&lt;dbl&gt;</th><th scope=col>&lt;dbl&gt;</th></tr>\n",
       "</thead>\n",
       "<tbody>\n",
       "\t<tr><td>Registered Nurse             </td><td>106059.97</td><td>2009.03</td><td>7364.29</td><td>39522.07</td><td>115433.29</td><td>154955.36</td><td>2014</td></tr>\n",
       "\t<tr><td>Custodian                    </td><td> 54703.00</td><td>1390.28</td><td>3015.09</td><td>26477.07</td><td> 59108.37</td><td> 85585.44</td><td>2014</td></tr>\n",
       "\t<tr><td>Medical Evaluations Assistant</td><td> 61209.75</td><td> 495.45</td><td>1400.82</td><td>27596.89</td><td> 63106.02</td><td> 90702.91</td><td>2014</td></tr>\n",
       "\t<tr><td>Manager II, MTA              </td><td>114326.00</td><td>   0.00</td><td>1486.84</td><td>47304.83</td><td>115812.84</td><td>163117.67</td><td>2014</td></tr>\n",
       "\t<tr><td>Nursing Supervisor           </td><td> 39942.92</td><td>   0.00</td><td>4402.24</td><td> 9108.00</td><td> 44345.16</td><td> 53453.16</td><td>2014</td></tr>\n",
       "</tbody>\n",
       "</table>\n"
      ],
      "text/latex": [
       "A spec_tbl_df: 5 × 8\n",
       "\\begin{tabular}{r|llllllll}\n",
       " JobTitle & BasePay & OvertimePay & OtherPay & Benefits & TotalPay & TotalPayBenefits & Year\\\\\n",
       " <chr> & <dbl> & <dbl> & <dbl> & <dbl> & <dbl> & <dbl> & <dbl>\\\\\n",
       "\\hline\n",
       "\t Registered Nurse              & 106059.97 & 2009.03 & 7364.29 & 39522.07 & 115433.29 & 154955.36 & 2014\\\\\n",
       "\t Custodian                     &  54703.00 & 1390.28 & 3015.09 & 26477.07 &  59108.37 &  85585.44 & 2014\\\\\n",
       "\t Medical Evaluations Assistant &  61209.75 &  495.45 & 1400.82 & 27596.89 &  63106.02 &  90702.91 & 2014\\\\\n",
       "\t Manager II, MTA               & 114326.00 &    0.00 & 1486.84 & 47304.83 & 115812.84 & 163117.67 & 2014\\\\\n",
       "\t Nursing Supervisor            &  39942.92 &    0.00 & 4402.24 &  9108.00 &  44345.16 &  53453.16 & 2014\\\\\n",
       "\\end{tabular}\n"
      ],
      "text/markdown": [
       "\n",
       "A spec_tbl_df: 5 × 8\n",
       "\n",
       "| JobTitle &lt;chr&gt; | BasePay &lt;dbl&gt; | OvertimePay &lt;dbl&gt; | OtherPay &lt;dbl&gt; | Benefits &lt;dbl&gt; | TotalPay &lt;dbl&gt; | TotalPayBenefits &lt;dbl&gt; | Year &lt;dbl&gt; |\n",
       "|---|---|---|---|---|---|---|---|\n",
       "| Registered Nurse              | 106059.97 | 2009.03 | 7364.29 | 39522.07 | 115433.29 | 154955.36 | 2014 |\n",
       "| Custodian                     |  54703.00 | 1390.28 | 3015.09 | 26477.07 |  59108.37 |  85585.44 | 2014 |\n",
       "| Medical Evaluations Assistant |  61209.75 |  495.45 | 1400.82 | 27596.89 |  63106.02 |  90702.91 | 2014 |\n",
       "| Manager II, MTA               | 114326.00 |    0.00 | 1486.84 | 47304.83 | 115812.84 | 163117.67 | 2014 |\n",
       "| Nursing Supervisor            |  39942.92 |    0.00 | 4402.24 |  9108.00 |  44345.16 |  53453.16 | 2014 |\n",
       "\n"
      ],
      "text/plain": [
       "  JobTitle                      BasePay   OvertimePay OtherPay Benefits\n",
       "1 Registered Nurse              106059.97 2009.03     7364.29  39522.07\n",
       "2 Custodian                      54703.00 1390.28     3015.09  26477.07\n",
       "3 Medical Evaluations Assistant  61209.75  495.45     1400.82  27596.89\n",
       "4 Manager II, MTA               114326.00    0.00     1486.84  47304.83\n",
       "5 Nursing Supervisor             39942.92    0.00     4402.24   9108.00\n",
       "  TotalPay  TotalPayBenefits Year\n",
       "1 115433.29 154955.36        2014\n",
       "2  59108.37  85585.44        2014\n",
       "3  63106.02  90702.91        2014\n",
       "4 115812.84 163117.67        2014\n",
       "5  44345.16  53453.16        2014"
      ]
     },
     "metadata": {},
     "output_type": "display_data"
    }
   ],
   "source": [
    "# The data can be downloaded from: \n",
    "# https://5harad.com/mse125/discussions/week_3/sf_salaries2014.tsv\n",
    "salaries <- read_tsv(\"sf_salaries2014.tsv\")\n",
    "\n",
    "# peek at 5 random rows\n",
    "sample_n(salaries, 5)"
   ]
  },
  {
   "cell_type": "code",
   "execution_count": 69,
   "metadata": {},
   "outputs": [
    {
     "data": {
      "text/html": [
       "37247"
      ],
      "text/latex": [
       "37247"
      ],
      "text/markdown": [
       "37247"
      ],
      "text/plain": [
       "[1] 37247"
      ]
     },
     "metadata": {},
     "output_type": "display_data"
    }
   ],
   "source": [
    "nrow(salaries)"
   ]
  },
  {
   "cell_type": "markdown",
   "metadata": {},
   "source": [
    "According to the data, SF city had 37,427 employees in the year 2014"
   ]
  },
  {
   "cell_type": "markdown",
   "metadata": {},
   "source": [
    "For observations that are likely to have extreme outliers, such as salary data,\n",
    "a common statistic of interest is the median. \n",
    "\n",
    "Since we have all the data, we can easily compute the **true** median \n",
    "base salary for SF city employees in 2014."
   ]
  },
  {
   "cell_type": "markdown",
   "metadata": {},
   "source": [
    "### Warm up\n",
    "\n",
    "Compute the median, mean, sd, minimum, and maximum salary in SF in 2014. Which job(s) have the lowest pay? Which have the highest pay?"
   ]
  },
  {
   "cell_type": "code",
   "execution_count": 70,
   "metadata": {},
   "outputs": [
    {
     "data": {
      "text/html": [
       "<table>\n",
       "<caption>A tibble: 1 × 5</caption>\n",
       "<thead>\n",
       "\t<tr><th scope=col>median(BasePay)</th><th scope=col>mean(BasePay)</th><th scope=col>sd(BasePay)</th><th scope=col>min(BasePay)</th><th scope=col>max(BasePay)</th></tr>\n",
       "\t<tr><th scope=col>&lt;dbl&gt;</th><th scope=col>&lt;dbl&gt;</th><th scope=col>&lt;dbl&gt;</th><th scope=col>&lt;dbl&gt;</th><th scope=col>&lt;dbl&gt;</th></tr>\n",
       "</thead>\n",
       "<tbody>\n",
       "\t<tr><td>65663.04</td><td>68114.45</td><td>43372.1</td><td>0</td><td>318835.5</td></tr>\n",
       "</tbody>\n",
       "</table>\n"
      ],
      "text/latex": [
       "A tibble: 1 × 5\n",
       "\\begin{tabular}{r|lllll}\n",
       " median(BasePay) & mean(BasePay) & sd(BasePay) & min(BasePay) & max(BasePay)\\\\\n",
       " <dbl> & <dbl> & <dbl> & <dbl> & <dbl>\\\\\n",
       "\\hline\n",
       "\t 65663.04 & 68114.45 & 43372.1 & 0 & 318835.5\\\\\n",
       "\\end{tabular}\n"
      ],
      "text/markdown": [
       "\n",
       "A tibble: 1 × 5\n",
       "\n",
       "| median(BasePay) &lt;dbl&gt; | mean(BasePay) &lt;dbl&gt; | sd(BasePay) &lt;dbl&gt; | min(BasePay) &lt;dbl&gt; | max(BasePay) &lt;dbl&gt; |\n",
       "|---|---|---|---|---|\n",
       "| 65663.04 | 68114.45 | 43372.1 | 0 | 318835.5 |\n",
       "\n"
      ],
      "text/plain": [
       "  median(BasePay) mean(BasePay) sd(BasePay) min(BasePay) max(BasePay)\n",
       "1 65663.04        68114.45      43372.1     0            318835.5    "
      ]
     },
     "metadata": {},
     "output_type": "display_data"
    },
    {
     "data": {
      "text/html": [
       "<table>\n",
       "<caption>A spec_tbl_df: 1 × 8</caption>\n",
       "<thead>\n",
       "\t<tr><th scope=col>JobTitle</th><th scope=col>BasePay</th><th scope=col>OvertimePay</th><th scope=col>OtherPay</th><th scope=col>Benefits</th><th scope=col>TotalPay</th><th scope=col>TotalPayBenefits</th><th scope=col>Year</th></tr>\n",
       "\t<tr><th scope=col>&lt;chr&gt;</th><th scope=col>&lt;dbl&gt;</th><th scope=col>&lt;dbl&gt;</th><th scope=col>&lt;dbl&gt;</th><th scope=col>&lt;dbl&gt;</th><th scope=col>&lt;dbl&gt;</th><th scope=col>&lt;dbl&gt;</th><th scope=col>&lt;dbl&gt;</th></tr>\n",
       "</thead>\n",
       "<tbody>\n",
       "\t<tr><td>Asst Med Examiner</td><td>318835.5</td><td>10712.95</td><td>60563.54</td><td>89540.23</td><td>390112</td><td>479652.2</td><td>2014</td></tr>\n",
       "</tbody>\n",
       "</table>\n"
      ],
      "text/latex": [
       "A spec_tbl_df: 1 × 8\n",
       "\\begin{tabular}{r|llllllll}\n",
       " JobTitle & BasePay & OvertimePay & OtherPay & Benefits & TotalPay & TotalPayBenefits & Year\\\\\n",
       " <chr> & <dbl> & <dbl> & <dbl> & <dbl> & <dbl> & <dbl> & <dbl>\\\\\n",
       "\\hline\n",
       "\t Asst Med Examiner & 318835.5 & 10712.95 & 60563.54 & 89540.23 & 390112 & 479652.2 & 2014\\\\\n",
       "\\end{tabular}\n"
      ],
      "text/markdown": [
       "\n",
       "A spec_tbl_df: 1 × 8\n",
       "\n",
       "| JobTitle &lt;chr&gt; | BasePay &lt;dbl&gt; | OvertimePay &lt;dbl&gt; | OtherPay &lt;dbl&gt; | Benefits &lt;dbl&gt; | TotalPay &lt;dbl&gt; | TotalPayBenefits &lt;dbl&gt; | Year &lt;dbl&gt; |\n",
       "|---|---|---|---|---|---|---|---|\n",
       "| Asst Med Examiner | 318835.5 | 10712.95 | 60563.54 | 89540.23 | 390112 | 479652.2 | 2014 |\n",
       "\n"
      ],
      "text/plain": [
       "  JobTitle          BasePay  OvertimePay OtherPay Benefits TotalPay\n",
       "1 Asst Med Examiner 318835.5 10712.95    60563.54 89540.23 390112  \n",
       "  TotalPayBenefits Year\n",
       "1 479652.2         2014"
      ]
     },
     "metadata": {},
     "output_type": "display_data"
    },
    {
     "data": {
      "text/html": [
       "212"
      ],
      "text/latex": [
       "212"
      ],
      "text/markdown": [
       "212"
      ],
      "text/plain": [
       "[1] 212"
      ]
     },
     "metadata": {},
     "output_type": "display_data"
    }
   ],
   "source": [
    "# Your code here!\n",
    "\n",
    "# START solution\n",
    "\n",
    "salaries %>% \n",
    "  summarize(median(BasePay),\n",
    "            mean(BasePay),\n",
    "            sd(BasePay),\n",
    "            min(BasePay),\n",
    "            max(BasePay)\n",
    "           )\n",
    "\n",
    "salaries %>%\n",
    "  filter(BasePay == max(BasePay))\n",
    "\n",
    "# looks like 212 jobs have $0 BasePay, but really aren't unpaid jobs. \n",
    "# In a future analysis, maybe we'd fix these rows or filter them out.\n",
    "salaries %>%\n",
    "  filter(BasePay == min(BasePay)) %>%\n",
    "  nrow()\n",
    "\n",
    "# END solution"
   ]
  },
  {
   "cell_type": "markdown",
   "metadata": {},
   "source": [
    "## A realistic sample of salaries"
   ]
  },
  {
   "cell_type": "markdown",
   "metadata": {},
   "source": [
    "Now, let's pretend that we don't have this data set, and instead we randomly \n",
    "sampled $n = 100$ SF city employees in 2014, and asked for their base\n",
    "salary. \n",
    "\n",
    "In other words, we only see $n$ random rows from `BasePay` column of\n",
    "the full data."
   ]
  },
  {
   "cell_type": "code",
   "execution_count": 71,
   "metadata": {},
   "outputs": [
    {
     "name": "stdout",
     "output_type": "stream",
     "text": [
      "  [1]  70600.10 138536.00 114317.00 201296.02 137039.91  18594.00  81830.00\n",
      "  [8]  29111.63  72285.82  71915.02   2378.91   8604.62  12662.00  56883.06\n",
      " [15] 178296.03  55409.10  57240.51  53992.00  67078.75   7861.50   7800.00\n",
      " [22]  72598.00  65780.09  54636.43  65225.00  77908.06  47700.58  10865.42\n",
      " [29]  42814.40 112703.74  19109.40  66229.32  61509.02  69960.00  43694.57\n",
      " [36] 131071.00  78792.73  88045.03   7762.00  78522.00   2762.40 120350.05\n",
      " [43] 164849.00  63978.00  75891.59  73471.01  65055.00  24802.23  41860.06\n",
      " [50]  42752.43 102191.93  62150.14  13488.00  79760.86 118898.12  69072.50\n",
      " [57] 178296.00 100387.88  95557.04  83880.01  58414.58 122868.05  64841.12\n",
      " [64]  25762.59 115661.01  60876.01  54229.44 111948.31  66513.00  50699.52\n",
      " [71]  81830.00  50545.20  65637.84  79287.01   1196.00  38815.40  61818.00\n",
      " [78] 179464.20  46443.49  66243.94  63978.04 102145.02  20627.98  63978.08\n",
      " [85]   8732.24  55417.41 125662.00 191709.00  10464.60  65069.72   7455.51\n",
      " [92]  84594.82 104642.06  68497.00  24491.98  54703.00  72624.08   3548.58\n",
      " [99]   8461.60   9870.39\n"
     ]
    }
   ],
   "source": [
    "n <- 100\n",
    "\n",
    "# `pull(df, col)` is identical to `df$col`,\n",
    "# but `pull` is pipeable!\n",
    "sample_basepay <- salaries %>% \n",
    "  sample_n(n) %>% \n",
    "  pull(BasePay)  \n",
    "\n",
    "print(sample_basepay)"
   ]
  },
  {
   "cell_type": "markdown",
   "metadata": {},
   "source": [
    "Using our \"observed\" data, we could estimate the median, assuming that \n",
    "our sample is representative of the population, by simply taking the median \n",
    "of the observed base pay:"
   ]
  },
  {
   "cell_type": "code",
   "execution_count": 72,
   "metadata": {},
   "outputs": [
    {
     "data": {
      "text/html": [
       "65062.36"
      ],
      "text/latex": [
       "65062.36"
      ],
      "text/markdown": [
       "65062.36"
      ],
      "text/plain": [
       "[1] 65062.36"
      ]
     },
     "metadata": {},
     "output_type": "display_data"
    }
   ],
   "source": [
    "median(sample_basepay)"
   ]
  },
  {
   "cell_type": "markdown",
   "metadata": {},
   "source": [
    "But now is the difficult part: what is the uncertainty is associated with our estimate? And how do we find the sampling distribution of our estimator? \n",
    "\n",
    "> Recall from last week's discussion that we can think of the **sampling distribution** of an estimator as the distribution of values that the estimator would take across many parallel universes."
   ]
  },
  {
   "cell_type": "markdown",
   "metadata": {},
   "source": [
    "## The idea"
   ]
  },
  {
   "cell_type": "markdown",
   "metadata": {},
   "source": [
    "One approach: we could (1) take multiple samples of salaries (\"parallel universes\"), (2) calculate an estimate of the median for each sample, and (3) compute the standard deviation of the estimates across parallel universes.\n",
    "\n",
    "The problem: parallel universes aren't easily accessible. For example, it may be costly to sample more than once.\n",
    "\n",
    "Potential solution: if we are willing to assume that our sample is representative of the\n",
    "population, we could use it to mimic parallel universes. **This is the core idea of the bootstrap.**"
   ]
  },
  {
   "cell_type": "markdown",
   "metadata": {},
   "source": [
    "## Bootstrap samples"
   ]
  },
  {
   "cell_type": "markdown",
   "metadata": {},
   "source": [
    "We can create an artificial universe by **resampling from our observed data with replacement**, and then computing our estimate over this new \"sample\".\n",
    "\n",
    "> 1. Draw $X_1^\\star,\\dots,X_{100}^\\star \\sim \\hat{F}_{100}$ \n",
    "> 2. Compute $T_{100}^\\star = median(X_1^\\star,\\dots,X_{100}^\\star)$\n",
    "\n",
    "An analogy would be to write down each of the 100 base rate salaries we collected, put them in an urn, and then randomly pull out numbers out of that urn. \n",
    "\n",
    "Let's try this in `R`!"
   ]
  },
  {
   "cell_type": "markdown",
   "metadata": {},
   "source": [
    "### Exercise\n",
    "\n",
    "Generate a single bootstrap sample from our sample of 100 salaries. Calculate the median of the bootstrap sample.\n",
    "\n",
    "Bonus: Write an `R` function `get_boot_median` to generate a bootstrapped median.\n",
    "\n",
    "Some things to keep in mind:\n",
    "\n",
    "- The `sample` command may come in handy. See `?sample`.\n",
    "- How many observations should we resample from our 100 salaries?\n",
    "- Why do we need to sample with replacement?"
   ]
  },
  {
   "cell_type": "code",
   "execution_count": 73,
   "metadata": {},
   "outputs": [
    {
     "name": "stdout",
     "output_type": "stream",
     "text": [
      "[1] \"One bootstrap sample:\"\n",
      "  [1]  84594.82  38815.40  38815.40  60876.01 100387.88   9870.39  42752.43\n",
      "  [8] 112703.74   7800.00  69072.50  88045.03  64841.12 104642.06   3548.58\n",
      " [15]   9870.39   3548.58  55409.10  63978.04  67078.75 102191.93  69072.50\n",
      " [22] 102145.02 111948.31  55409.10 131071.00  81830.00  47700.58  55417.41\n",
      " [29]  24802.23  56883.06  10865.42  50699.52  19109.40  41860.06 201296.02\n",
      " [36]  13488.00  19109.40  29111.63  53992.00  79287.01  95557.04  65225.00\n",
      " [43]  54229.44   2378.91  79760.86 118898.12  38815.40 178296.03  68497.00\n",
      " [50]  64841.12  19109.40 111948.31  69072.50  72624.08  54636.43 125662.00\n",
      " [57]  58414.58  47700.58  75891.59  24802.23  25762.59  50699.52  47700.58\n",
      " [64]  60876.01  70600.10   7800.00  10464.60   8732.24  65637.84  47700.58\n",
      " [71] 191709.00   3548.58  63978.00  24491.98  63978.00  50545.20  63978.00\n",
      " [78]   2378.91   7455.51  65780.09   1196.00  60876.01  54229.44  41860.06\n",
      " [85]  65637.84  72624.08   2762.40 131071.00 102145.02  75891.59 122868.05\n",
      " [92] 115661.01   7861.50  60876.01  25762.59  62150.14  64841.12  78522.00\n",
      " [99]  77908.06  73471.01\n",
      "[1] \"Median of one bootstrap sample:\"\n",
      "[1] 60876.01\n",
      "[1] \"Bootstrapped median from get_boot_median():\"\n",
      "[1] 63978.04\n"
     ]
    }
   ],
   "source": [
    "# Your code here!\n",
    "\n",
    "# START solution\n",
    "\n",
    "# We want to replicate the features of our estimator.\n",
    "# The size of our sample is a critical feature.\n",
    "# So, we should sample 100 times with replacement.\n",
    "\n",
    "# generate one bootstrap sample\n",
    "n <- length(sample_basepay)\n",
    "boot_sample <- sample(sample_basepay, n, replace = TRUE)\n",
    "print(\"One bootstrap sample:\")\n",
    "print(boot_sample)\n",
    "\n",
    "# find median of bootstrap sample\n",
    "print(\"Median of one bootstrap sample:\")\n",
    "print(median(boot_sample))\n",
    "\n",
    "# For convenience, we can functionalize this process.\n",
    "# get_boot_median() generates a bootstrapped median\n",
    "get_boot_median <- function() {\n",
    "    n <- length(sample_basepay)\n",
    "    boot_sample <- sample(sample_basepay, n, replace = TRUE)\n",
    "    \n",
    "    # the last line of an R function is automatically returned\n",
    "    median(boot_sample)\n",
    "}\n",
    "\n",
    "print(\"Bootstrapped median from get_boot_median():\")\n",
    "print(get_boot_median())\n",
    "\n",
    "# END solution"
   ]
  },
  {
   "cell_type": "markdown",
   "metadata": {},
   "source": [
    "## Bootstrapped sampling distribution"
   ]
  },
  {
   "cell_type": "markdown",
   "metadata": {},
   "source": [
    "We can repeat the process above many times to approximate the sampling distribution of the estimator for the median income.\n",
    "\n",
    "Note that we only use the bootstrapped sampling distribution to calculate the standard error of our estimator, not its expected value! Our best guess of the expected value is the median of the **original** sample of 100 incomes."
   ]
  },
  {
   "cell_type": "markdown",
   "metadata": {},
   "source": [
    "### Exercise\n",
    "\n",
    "Generate `B` bootstrap samples, and calculate the median of each sample. Using your `B` bootstrapped estimates of the median, calculate the standard error of our estimator of the median income, and construct a confidence interval for the median income using the normal approximation. \n",
    "\n",
    "Some things to keep in mind:\n",
    "\n",
    "- The `replicate` command may come in handy.\n",
    "- How many bootstrap samples should we generate? In other words, what's a good value of `B`?\n",
    "- What should be the point estimate of our confidence interval?\n",
    "- Is the normal approximation reasonable?\n"
   ]
  },
  {
   "cell_type": "code",
   "execution_count": 74,
   "metadata": {},
   "outputs": [
    {
     "name": "stdout",
     "output_type": "stream",
     "text": [
      "[1] \"Standard deviation of bootstrapped medians:\"\n",
      "[1] 2240.318\n",
      "[1] \"Bootstrapped confidence interval of the median income: \"\n",
      "[1] 60581.72 69543.00\n"
     ]
    },
    {
     "data": {
      "image/png": "[encoded data removed]",
      "text/plain": [
       "Plot with title “Histogram of boot_medians”"
      ]
     },
     "metadata": {},
     "output_type": "display_data"
    }
   ],
   "source": [
    "# Your code here!\n",
    "\n",
    "# START solution\n",
    "\n",
    "# B is chosen by balancing the computational power available to you, \n",
    "# and whether adding more replications makes a difference, numerically.\n",
    "# 10,000 is usually a good choice, but feel free to modify and explore. \n",
    "\n",
    "B <- 10000\n",
    "boot_medians <- replicate(B, get_boot_median())\n",
    "\n",
    "# Standard error of bootstrapped medians\n",
    "se_boot <- sd(boot_medians)\n",
    "print(\"Standard deviation of bootstrapped medians:\")\n",
    "print(se_boot)\n",
    "\n",
    "# The point estimate of our CI should be computed from the original data.\n",
    "# The bootstrap samples are only used to compute the standard error of the estimator!\n",
    "point_estimate <- median(sample_basepay)\n",
    "\n",
    "# Confidence interval\n",
    "ci_boot <- c(point_estimate - 2*se_boot, point_estimate + 2*se_boot)\n",
    "print(\"Bootstrapped confidence interval of the median income: \")\n",
    "print(ci_boot)\n",
    "\n",
    "# bootstrapped sampling distribution approximately normal\n",
    "hist(boot_medians)\n",
    "\n",
    "# END solution"
   ]
  },
  {
   "cell_type": "markdown",
   "metadata": {},
   "source": [
    "## Pivotal interval\n",
    "\n",
    "Computing confidence intervals with the normal approximation assumes that the sampling distribution is normal. \n",
    "\n",
    "What if we aren't confident in this assumption? We can use the pivotal method:\n",
    "$\\left(2 \\hat{\\theta} - \\hat{\\theta}^\\star_{1-\\alpha/2}, 2 \\hat{\\theta} - \\hat{\\theta}^\\star_{\\alpha/2}\\right)$\n",
    "\n",
    "Note that the pivotal method still assumes that the bootstrapped sampling distribution is a good approximation of the true samping distribution. The sampling distribution just doesn't have to be normal!"
   ]
  },
  {
   "cell_type": "markdown",
   "metadata": {},
   "source": [
    "### Exercise\n",
    "\n",
    "Compute the pivotal interval of the median income. "
   ]
  },
  {
   "cell_type": "code",
   "execution_count": 75,
   "metadata": {},
   "outputs": [
    {
     "name": "stdout",
     "output_type": "stream",
     "text": [
      "[1] 61052.22 71710.14\n"
     ]
    }
   ],
   "source": [
    "# Your code here!\n",
    "\n",
    "# START solution\n",
    "\n",
    "theta_hat <- median(sample_basepay)\n",
    "theta_hat_star_lower <- quantile(boot_medians, 0.975, names=FALSE)\n",
    "theta_hat_star_upper <- quantile(boot_medians, 0.025, names=FALSE)\n",
    "\n",
    "ci_pivotal <- 2 * theta_hat - c(theta_hat_star_lower, theta_hat_star_upper)\n",
    "print(ci_pivotal)\n",
    "\n",
    "# END solution"
   ]
  }
 ],
 "metadata": {
  "kernelspec": {
   "display_name": "R",
   "language": "R",
   "name": "ir"
  },
  "language_info": {
   "codemirror_mode": "r",
   "file_extension": ".r",
   "mimetype": "text/x-r-source",
   "name": "R",
   "pygments_lexer": "r",
   "version": "3.6.3"
  }
 },
 "nbformat": 4,
 "nbformat_minor": 4
}
