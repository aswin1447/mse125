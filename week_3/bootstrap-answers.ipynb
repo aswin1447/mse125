{
 "cells": [
  {
   "cell_type": "markdown",
   "metadata": {},
   "source": [
    "# Week 3 Discussion: The Bootstrap"
   ]
  },
  {
   "cell_type": "markdown",
   "metadata": {},
   "source": [
    "![sf-boots](img/sf-boots.jpg)"
   ]
  },
  {
   "cell_type": "code",
   "execution_count": 5,
   "metadata": {},
   "outputs": [],
   "source": [
    "set.seed(125)\n",
    "\n",
    "library(tidyverse)\n",
    "\n",
    "theme_set(theme_bw())"
   ]
  },
  {
   "cell_type": "markdown",
   "metadata": {},
   "source": [
    "## Setup\n",
    "\n",
    "For this section, we will work with salary data from 2014 for SF city employees \n",
    "(derived from the \n",
    "[Kaggle SF Salaries dataset](https://www.kaggle.com/kaggle/sf-salaries))."
   ]
  },
  {
   "cell_type": "code",
   "execution_count": 12,
   "metadata": {},
   "outputs": [
    {
     "name": "stderr",
     "output_type": "stream",
     "text": [
      "Parsed with column specification:\n",
      "cols(\n",
      "  JobTitle = \u001b[31mcol_character()\u001b[39m,\n",
      "  BasePay = \u001b[32mcol_double()\u001b[39m,\n",
      "  OvertimePay = \u001b[32mcol_double()\u001b[39m,\n",
      "  OtherPay = \u001b[32mcol_double()\u001b[39m,\n",
      "  Benefits = \u001b[32mcol_double()\u001b[39m,\n",
      "  TotalPay = \u001b[32mcol_double()\u001b[39m,\n",
      "  TotalPayBenefits = \u001b[32mcol_double()\u001b[39m,\n",
      "  Year = \u001b[32mcol_double()\u001b[39m\n",
      ")\n"
     ]
    },
    {
     "data": {
      "text/html": [
       "<table>\n",
       "<caption>A spec_tbl_df: 5 × 8</caption>\n",
       "<thead>\n",
       "\t<tr><th scope=col>JobTitle</th><th scope=col>BasePay</th><th scope=col>OvertimePay</th><th scope=col>OtherPay</th><th scope=col>Benefits</th><th scope=col>TotalPay</th><th scope=col>TotalPayBenefits</th><th scope=col>Year</th></tr>\n",
       "\t<tr><th scope=col>&lt;chr&gt;</th><th scope=col>&lt;dbl&gt;</th><th scope=col>&lt;dbl&gt;</th><th scope=col>&lt;dbl&gt;</th><th scope=col>&lt;dbl&gt;</th><th scope=col>&lt;dbl&gt;</th><th scope=col>&lt;dbl&gt;</th><th scope=col>&lt;dbl&gt;</th></tr>\n",
       "</thead>\n",
       "<tbody>\n",
       "\t<tr><td>Public Service Trainee     </td><td>  2378.91</td><td>   0.00</td><td>   0.00</td><td>   23.78</td><td>  2378.91</td><td>  2402.69</td><td>2014</td></tr>\n",
       "\t<tr><td>Watershed Worker (Seasonal)</td><td>  8604.62</td><td>   0.00</td><td>   0.00</td><td>   86.05</td><td>  8604.62</td><td>  8690.67</td><td>2014</td></tr>\n",
       "\t<tr><td>Cashier 2                  </td><td> 12662.00</td><td> 724.50</td><td>   0.00</td><td> 6955.72</td><td> 13386.50</td><td> 20342.22</td><td>2014</td></tr>\n",
       "\t<tr><td>Secretary 1                </td><td> 56883.06</td><td>1178.69</td><td> 624.00</td><td>26431.19</td><td> 58685.75</td><td> 85116.94</td><td>2014</td></tr>\n",
       "\t<tr><td>Attorney (Civil/Criminal)  </td><td>178296.03</td><td>   0.00</td><td>4815.92</td><td>52974.81</td><td>183111.95</td><td>236086.76</td><td>2014</td></tr>\n",
       "</tbody>\n",
       "</table>\n"
      ],
      "text/latex": [
       "A spec_tbl_df: 5 × 8\n",
       "\\begin{tabular}{r|llllllll}\n",
       " JobTitle & BasePay & OvertimePay & OtherPay & Benefits & TotalPay & TotalPayBenefits & Year\\\\\n",
       " <chr> & <dbl> & <dbl> & <dbl> & <dbl> & <dbl> & <dbl> & <dbl>\\\\\n",
       "\\hline\n",
       "\t Public Service Trainee      &   2378.91 &    0.00 &    0.00 &    23.78 &   2378.91 &   2402.69 & 2014\\\\\n",
       "\t Watershed Worker (Seasonal) &   8604.62 &    0.00 &    0.00 &    86.05 &   8604.62 &   8690.67 & 2014\\\\\n",
       "\t Cashier 2                   &  12662.00 &  724.50 &    0.00 &  6955.72 &  13386.50 &  20342.22 & 2014\\\\\n",
       "\t Secretary 1                 &  56883.06 & 1178.69 &  624.00 & 26431.19 &  58685.75 &  85116.94 & 2014\\\\\n",
       "\t Attorney (Civil/Criminal)   & 178296.03 &    0.00 & 4815.92 & 52974.81 & 183111.95 & 236086.76 & 2014\\\\\n",
       "\\end{tabular}\n"
      ],
      "text/markdown": [
       "\n",
       "A spec_tbl_df: 5 × 8\n",
       "\n",
       "| JobTitle &lt;chr&gt; | BasePay &lt;dbl&gt; | OvertimePay &lt;dbl&gt; | OtherPay &lt;dbl&gt; | Benefits &lt;dbl&gt; | TotalPay &lt;dbl&gt; | TotalPayBenefits &lt;dbl&gt; | Year &lt;dbl&gt; |\n",
       "|---|---|---|---|---|---|---|---|\n",
       "| Public Service Trainee      |   2378.91 |    0.00 |    0.00 |    23.78 |   2378.91 |   2402.69 | 2014 |\n",
       "| Watershed Worker (Seasonal) |   8604.62 |    0.00 |    0.00 |    86.05 |   8604.62 |   8690.67 | 2014 |\n",
       "| Cashier 2                   |  12662.00 |  724.50 |    0.00 |  6955.72 |  13386.50 |  20342.22 | 2014 |\n",
       "| Secretary 1                 |  56883.06 | 1178.69 |  624.00 | 26431.19 |  58685.75 |  85116.94 | 2014 |\n",
       "| Attorney (Civil/Criminal)   | 178296.03 |    0.00 | 4815.92 | 52974.81 | 183111.95 | 236086.76 | 2014 |\n",
       "\n"
      ],
      "text/plain": [
       "  JobTitle                    BasePay   OvertimePay OtherPay Benefits TotalPay \n",
       "1 Public Service Trainee        2378.91    0.00        0.00     23.78   2378.91\n",
       "2 Watershed Worker (Seasonal)   8604.62    0.00        0.00     86.05   8604.62\n",
       "3 Cashier 2                    12662.00  724.50        0.00   6955.72  13386.50\n",
       "4 Secretary 1                  56883.06 1178.69      624.00  26431.19  58685.75\n",
       "5 Attorney (Civil/Criminal)   178296.03    0.00     4815.92  52974.81 183111.95\n",
       "  TotalPayBenefits Year\n",
       "1   2402.69        2014\n",
       "2   8690.67        2014\n",
       "3  20342.22        2014\n",
       "4  85116.94        2014\n",
       "5 236086.76        2014"
      ]
     },
     "metadata": {},
     "output_type": "display_data"
    }
   ],
   "source": [
    "# The data can be downloaded from: \n",
    "# https://5harad.com/mse125/discussions/week_3/sf_salaries2014.tsv\n",
    "salaries <- read_tsv(\"sf_salaries2014.tsv\")\n",
    "\n",
    "# peek at 5 random rows\n",
    "sample_n(salaries, 5)"
   ]
  },
  {
   "cell_type": "code",
   "execution_count": 7,
   "metadata": {},
   "outputs": [
    {
     "data": {
      "text/html": [
       "37247"
      ],
      "text/latex": [
       "37247"
      ],
      "text/markdown": [
       "37247"
      ],
      "text/plain": [
       "[1] 37247"
      ]
     },
     "metadata": {},
     "output_type": "display_data"
    }
   ],
   "source": [
    "nrow(salaries)"
   ]
  },
  {
   "cell_type": "markdown",
   "metadata": {},
   "source": [
    "According to the data, SF city had 37,427 employees in the year 2014"
   ]
  },
  {
   "cell_type": "markdown",
   "metadata": {},
   "source": [
    "For observations that are likely to have extreme outliers, such as salary data,\n",
    "a common statistic of interest is the median. \n",
    "\n",
    "Since we have all the data, we can easily compute the **true** median \n",
    "base salary for SF city employees in 2014."
   ]
  },
  {
   "cell_type": "markdown",
   "metadata": {},
   "source": [
    "### Warm up\n",
    "\n",
    "Compute the median, mean, sd, minimum, and maximum salary in SF in 2014. Which job(s) have the lowest pay? Which have the highest pay?"
   ]
  },
  {
   "cell_type": "code",
   "execution_count": 28,
   "metadata": {},
   "outputs": [
    {
     "data": {
      "text/html": [
       "<table>\n",
       "<caption>A tibble: 1 × 5</caption>\n",
       "<thead>\n",
       "\t<tr><th scope=col>median(BasePay)</th><th scope=col>mean(BasePay)</th><th scope=col>sd(BasePay)</th><th scope=col>min(BasePay)</th><th scope=col>max(BasePay)</th></tr>\n",
       "\t<tr><th scope=col>&lt;dbl&gt;</th><th scope=col>&lt;dbl&gt;</th><th scope=col>&lt;dbl&gt;</th><th scope=col>&lt;dbl&gt;</th><th scope=col>&lt;dbl&gt;</th></tr>\n",
       "</thead>\n",
       "<tbody>\n",
       "\t<tr><td>65663.04</td><td>68114.45</td><td>43372.1</td><td>0</td><td>318835.5</td></tr>\n",
       "</tbody>\n",
       "</table>\n"
      ],
      "text/latex": [
       "A tibble: 1 × 5\n",
       "\\begin{tabular}{r|lllll}\n",
       " median(BasePay) & mean(BasePay) & sd(BasePay) & min(BasePay) & max(BasePay)\\\\\n",
       " <dbl> & <dbl> & <dbl> & <dbl> & <dbl>\\\\\n",
       "\\hline\n",
       "\t 65663.04 & 68114.45 & 43372.1 & 0 & 318835.5\\\\\n",
       "\\end{tabular}\n"
      ],
      "text/markdown": [
       "\n",
       "A tibble: 1 × 5\n",
       "\n",
       "| median(BasePay) &lt;dbl&gt; | mean(BasePay) &lt;dbl&gt; | sd(BasePay) &lt;dbl&gt; | min(BasePay) &lt;dbl&gt; | max(BasePay) &lt;dbl&gt; |\n",
       "|---|---|---|---|---|\n",
       "| 65663.04 | 68114.45 | 43372.1 | 0 | 318835.5 |\n",
       "\n"
      ],
      "text/plain": [
       "  median(BasePay) mean(BasePay) sd(BasePay) min(BasePay) max(BasePay)\n",
       "1 65663.04        68114.45      43372.1     0            318835.5    "
      ]
     },
     "metadata": {},
     "output_type": "display_data"
    },
    {
     "data": {
      "text/html": [
       "<table>\n",
       "<caption>A spec_tbl_df: 1 × 8</caption>\n",
       "<thead>\n",
       "\t<tr><th scope=col>JobTitle</th><th scope=col>BasePay</th><th scope=col>OvertimePay</th><th scope=col>OtherPay</th><th scope=col>Benefits</th><th scope=col>TotalPay</th><th scope=col>TotalPayBenefits</th><th scope=col>Year</th></tr>\n",
       "\t<tr><th scope=col>&lt;chr&gt;</th><th scope=col>&lt;dbl&gt;</th><th scope=col>&lt;dbl&gt;</th><th scope=col>&lt;dbl&gt;</th><th scope=col>&lt;dbl&gt;</th><th scope=col>&lt;dbl&gt;</th><th scope=col>&lt;dbl&gt;</th><th scope=col>&lt;dbl&gt;</th></tr>\n",
       "</thead>\n",
       "<tbody>\n",
       "\t<tr><td>Asst Med Examiner</td><td>318835.5</td><td>10712.95</td><td>60563.54</td><td>89540.23</td><td>390112</td><td>479652.2</td><td>2014</td></tr>\n",
       "</tbody>\n",
       "</table>\n"
      ],
      "text/latex": [
       "A spec_tbl_df: 1 × 8\n",
       "\\begin{tabular}{r|llllllll}\n",
       " JobTitle & BasePay & OvertimePay & OtherPay & Benefits & TotalPay & TotalPayBenefits & Year\\\\\n",
       " <chr> & <dbl> & <dbl> & <dbl> & <dbl> & <dbl> & <dbl> & <dbl>\\\\\n",
       "\\hline\n",
       "\t Asst Med Examiner & 318835.5 & 10712.95 & 60563.54 & 89540.23 & 390112 & 479652.2 & 2014\\\\\n",
       "\\end{tabular}\n"
      ],
      "text/markdown": [
       "\n",
       "A spec_tbl_df: 1 × 8\n",
       "\n",
       "| JobTitle &lt;chr&gt; | BasePay &lt;dbl&gt; | OvertimePay &lt;dbl&gt; | OtherPay &lt;dbl&gt; | Benefits &lt;dbl&gt; | TotalPay &lt;dbl&gt; | TotalPayBenefits &lt;dbl&gt; | Year &lt;dbl&gt; |\n",
       "|---|---|---|---|---|---|---|---|\n",
       "| Asst Med Examiner | 318835.5 | 10712.95 | 60563.54 | 89540.23 | 390112 | 479652.2 | 2014 |\n",
       "\n"
      ],
      "text/plain": [
       "  JobTitle          BasePay  OvertimePay OtherPay Benefits TotalPay\n",
       "1 Asst Med Examiner 318835.5 10712.95    60563.54 89540.23 390112  \n",
       "  TotalPayBenefits Year\n",
       "1 479652.2         2014"
      ]
     },
     "metadata": {},
     "output_type": "display_data"
    },
    {
     "data": {
      "text/html": [
       "212"
      ],
      "text/latex": [
       "212"
      ],
      "text/markdown": [
       "212"
      ],
      "text/plain": [
       "[1] 212"
      ]
     },
     "metadata": {},
     "output_type": "display_data"
    }
   ],
   "source": [
    "# Your code here!\n",
    "\n",
    "# START solution\n",
    "\n",
    "salaries %>% \n",
    "  summarize(median(BasePay),\n",
    "            mean(BasePay),\n",
    "            sd(BasePay),\n",
    "            min(BasePay),\n",
    "            max(BasePay)\n",
    "           )\n",
    "\n",
    "salaries %>%\n",
    "  filter(BasePay == max(BasePay))\n",
    "\n",
    "# looks like 212 jobs have $0 BasePay, but really aren't unpaid jobs. \n",
    "# In a future analysis, maybe we'd fix these rows or filter them out.\n",
    "salaries %>%\n",
    "  filter(BasePay == min(BasePay)) %>%\n",
    "  nrow()\n",
    "\n",
    "# END solution"
   ]
  },
  {
   "cell_type": "markdown",
   "metadata": {},
   "source": [
    "## A realistic sample of salaries"
   ]
  },
  {
   "cell_type": "markdown",
   "metadata": {},
   "source": [
    "Now, let's pretend that we don't have this data set, and instead we randomly \n",
    "sampled $n = 100$ SF city employees in 2014, and asked for their base\n",
    "salary. \n",
    "\n",
    "In other words, we only see $n$ random rows from `BasePay` column of\n",
    "the full data."
   ]
  },
  {
   "cell_type": "code",
   "execution_count": 63,
   "metadata": {},
   "outputs": [
    {
     "name": "stdout",
     "output_type": "stream",
     "text": [
      "  [1]  86679.02  43259.00 118383.58  32486.68  63978.00  60175.01  42428.70\n",
      "  [8] 102679.05 153619.02  89350.42  67292.95  43238.71  96371.01  69606.03\n",
      " [15]  95789.40  15739.19 123912.06 112703.74  19918.75  54703.00 114631.03\n",
      " [22] 113209.04  67474.03  56424.08  18470.36 125026.51  74696.56 137982.18\n",
      " [29]  97333.01 208248.79  71597.84  54101.11 103183.35  84084.00  25911.00\n",
      " [36]  60688.00  65446.39   1558.00  62805.63  14811.06   2115.00  66151.03\n",
      " [43]  48497.20   4679.28  66114.15  78607.00  27992.01 127456.92 124312.82\n",
      " [50]  70612.90 115759.81  43898.57   8386.69  10971.85 136756.92  71731.01\n",
      " [57]  14389.50  31461.92  89989.20   8787.52  10545.61 142365.00  67395.21\n",
      " [64]  34790.30  74481.85  54703.00 128902.90   3079.56 199160.00  25887.20\n",
      " [71]  81797.10  83870.00  61818.02 129567.61  56979.50 132690.03 137317.04\n",
      " [78]  90759.72  20746.79   3203.80  54443.00 113866.00  81034.00  54073.30\n",
      " [85]   5340.75  68693.80   9571.61  47454.00 138536.02 114223.05  82248.31\n",
      " [92]  59697.03  93765.98  14585.73 147946.00  88602.30  64090.85  94191.01\n",
      " [99] 137783.15  63079.79\n"
     ]
    }
   ],
   "source": [
    "n <- 100\n",
    "\n",
    "# `pull(df, col)` is identical to `df$col`,\n",
    "# but `pull` is pipeable!\n",
    "sample_basepay <- salaries %>% \n",
    "  sample_n(n) %>% \n",
    "  pull(BasePay)  \n",
    "\n",
    "print(sample_basepay)"
   ]
  },
  {
   "cell_type": "markdown",
   "metadata": {},
   "source": [
    "Using our \"observed\" data, we could estimate the median, assuming that \n",
    "our sample is representative of the population, by simply taking the median \n",
    "of the observed base pay:"
   ]
  },
  {
   "cell_type": "code",
   "execution_count": 19,
   "metadata": {},
   "outputs": [
    {
     "data": {
      "text/html": [
       "59792.215"
      ],
      "text/latex": [
       "59792.215"
      ],
      "text/markdown": [
       "59792.215"
      ],
      "text/plain": [
       "[1] 59792.21"
      ]
     },
     "metadata": {},
     "output_type": "display_data"
    }
   ],
   "source": [
    "median(sample_basepay)"
   ]
  },
  {
   "cell_type": "markdown",
   "metadata": {},
   "source": [
    "But now is the difficult part: what is the uncertainty is associated with our estimate? And how do we find the sampling distribution of our estimator? \n",
    "\n",
    "> Recall from last week's discussion that we can think of the **sampling distribution** of an estimator as the distribution of values that the estimator would take across many parallel universes."
   ]
  },
  {
   "cell_type": "markdown",
   "metadata": {},
   "source": [
    "## The idea"
   ]
  },
  {
   "cell_type": "markdown",
   "metadata": {},
   "source": [
    "One approach: we could (1) take multiple samples of salaries (\"parallel universes\"), (2) calculate an estimate of the median for each sample, and (3) compute the standard deviation of the estimates across parallel universes.\n",
    "\n",
    "The problem: parallel universes aren't easily accessible. For example, it may be costly to sample more than once.\n",
    "\n",
    "Potential solution: if we are willing to assume that our sample is representative of the\n",
    "population, we could use it to mimic parallel universes. **This is the core idea of the bootstrap.**"
   ]
  },
  {
   "cell_type": "markdown",
   "metadata": {},
   "source": [
    "## Bootstrap samples"
   ]
  },
  {
   "cell_type": "markdown",
   "metadata": {},
   "source": [
    "We can create an artificial universe by **resampling from our observed data with replacement**, and then computing our estimate over this new \"sample\".\n",
    "\n",
    "> 1. Draw $X_1^\\star,\\dots,X_{100}^\\star \\sim \\hat{F}_n$ \n",
    "> 2. Compute $T_{100}^\\star = median(X_1^\\star,\\dots,X_{100}^\\star)$\n",
    "\n",
    "An analogy would be to write down each of the 100 base rate salaries we collected, put them in an urn, and then randomly pull out numbers out of that urn. \n",
    "\n",
    "Let's try this in `R`!"
   ]
  },
  {
   "cell_type": "markdown",
   "metadata": {},
   "source": [
    "### Exercise\n",
    "\n",
    "Generate a single bootstrap sample from our sample of 100 salaries. Calculate the median of the bootstrap sample.\n",
    "\n",
    "Bonus: Write an `R` function `get_boot_median` to generate a bootstrapped median.\n",
    "\n",
    "Some things to keep in mind:\n",
    "\n",
    "- The `sample` command may come in handy. See `?sample`.\n",
    "- How many observations should we resample from our 100 salaries?\n",
    "- Why do we need to sample with replacement?"
   ]
  },
  {
   "cell_type": "code",
   "execution_count": 51,
   "metadata": {},
   "outputs": [
    {
     "name": "stdout",
     "output_type": "stream",
     "text": [
      "[1] \"One bootstrap sample:\"\n",
      "  [1]  84521.01  75652.00  57454.94  12469.38   8546.80  61810.40  77908.06\n",
      "  [8]  72961.00  84521.01      0.00  49592.11  53439.74  37802.69  65699.06\n",
      " [15]  97557.00  16197.08 132690.03  40093.20   3493.00  71582.50  61810.40\n",
      " [22]  63462.00  34552.03 124312.82  13866.54 140165.83    365.68   2849.58\n",
      " [29] 205280.02  43386.00  72433.01  53439.74  30132.09  34127.38 126677.06\n",
      " [36]  54612.42  46825.13  34127.38  77152.52  34552.03  59728.09  59856.34\n",
      " [43]   3741.20  59728.09   3089.85  69135.40   2849.58  68495.97   1421.48\n",
      " [50]  10979.76  40093.20  54612.42  89302.12  65055.00  72961.00  43386.00\n",
      " [57]  54443.00  72433.01  54443.05 199916.01  71582.50  10979.76  65699.06\n",
      " [64]   3412.81  52589.58  30132.09  57879.06 104209.21 199916.01  87029.59\n",
      " [71]  76411.05   3089.85  77152.52 116613.55  77923.04  33336.31  84521.01\n",
      " [78]  57879.06   1421.48  59728.09  54443.00  46825.13   8546.80   1421.48\n",
      " [85]  10979.76  35110.13 114317.01  71582.50  16197.08 114888.04 114888.04\n",
      " [92]  77175.00  72433.01  77396.01 116613.55  16197.08 112864.36   8546.80\n",
      " [99]   3741.20    365.68\n",
      "[1] \"Median of one bootstrap sample:\"\n",
      "[1] 57667\n",
      "[1] \"Bootstrapped median from get_boot_median():\"\n",
      "[1] 58867.7\n"
     ]
    }
   ],
   "source": [
    "# Your code here!\n",
    "\n",
    "# START solution\n",
    "\n",
    "# We want to replicate the features of our estimator.\n",
    "# The size of our sample is a critical feature.\n",
    "# So, we should sample 100 times with replacement.\n",
    "\n",
    "# generate one bootstrap sample\n",
    "n <- length(sample_basepay)\n",
    "boot_sample <- sample(sample_basepay, n, replace = TRUE)\n",
    "print(\"One bootstrap sample:\")\n",
    "print(boot_sample)\n",
    "\n",
    "# find median of bootstrap sample\n",
    "print(\"Median of one bootstrap sample:\")\n",
    "print(median(boot_sample))\n",
    "\n",
    "# For convenience, we can functionalize this process.\n",
    "# get_boot_median() generates a bootstrapped median\n",
    "get_boot_median <- function() {\n",
    "    n <- length(sample_basepay)\n",
    "    boot_sample <- sample(sample_basepay, n, replace = TRUE)\n",
    "    \n",
    "    # the last line of an R function is automatically returned\n",
    "    median(boot_sample)\n",
    "}\n",
    "\n",
    "print(\"Bootstrapped median from get_boot_median():\")\n",
    "print(get_boot_median())\n",
    "\n",
    "# END solution"
   ]
  },
  {
   "cell_type": "markdown",
   "metadata": {},
   "source": [
    "## Bootstrapped sampling distribution"
   ]
  },
  {
   "cell_type": "markdown",
   "metadata": {},
   "source": [
    "We can repeat the process above many times to approximate the sampling distribution of the estimator for the median income.\n",
    "\n",
    "Note that we only use the bootstrapped sampling distribution to calculate the standard error of our estimator, not its expected value! Our best guess of the expected value is the median of the **original** sample of 100 incomes."
   ]
  },
  {
   "cell_type": "markdown",
   "metadata": {},
   "source": [
    "### Exercise\n",
    "\n",
    "Generate `B` bootstrap samples, and calculate the median of each sample. Using your `B` bootstrapped estimates of the median, calculate the standard error of our estimator of the median income, and construct a confidence interval for the median income using the normal approximation. \n",
    "\n",
    "Some things to keep in mind:\n",
    "\n",
    "- The `replicate` command may come in handy.\n",
    "- How many bootstrap samples should we generate? In other words, what's a good value of `B`?\n",
    "- What should be the point estimate of our confidence interval?\n",
    "- Is the normal approximation reasonable?\n"
   ]
  },
  {
   "cell_type": "code",
   "execution_count": 66,
   "metadata": {},
   "outputs": [
    {
     "name": "stdout",
     "output_type": "stream",
     "text": [
      "[1] \"Standard deviation of bootstrapped medians:\"\n",
      "[1] 4302.61\n",
      "[1] \"Bootstrapped confidence interval of the median income: \"\n",
      "[1] 58829.40 76039.84\n"
     ]
    },
    {
     "data": {
      "image/png": "[encoded data removed]",
      "text/plain": [
       "Plot with title “Histogram of boot_medians”"
      ]
     },
     "metadata": {},
     "output_type": "display_data"
    }
   ],
   "source": [
    "# Your code here!\n",
    "\n",
    "# START solution\n",
    "\n",
    "# B is chosen by balancing the computational power available to you, \n",
    "# and whether adding more replications makes a difference, numerically.\n",
    "# 10,000 is usually a good choice, but feel free to modify and explore. \n",
    "\n",
    "B <- 10000\n",
    "boot_medians <- replicate(B, get_boot_median())\n",
    "\n",
    "# Standard error of bootstrapped medians\n",
    "se_boot <- sd(boot_medians)\n",
    "print(\"Standard deviation of bootstrapped medians:\")\n",
    "print(se_boot)\n",
    "\n",
    "# The point estimate of our CI should be computed from the original data.\n",
    "# The bootstrap samples are only used to compute the standard error of the estimator!\n",
    "point_estimate <- median(sample_basepay)\n",
    "\n",
    "# Confidence interval\n",
    "ci_boot <- c(point_estimate - 2*se_boot, point_estimate + 2*se_boot)\n",
    "print(\"Bootstrapped confidence interval of the median income: \")\n",
    "print(ci_boot)\n",
    "\n",
    "# bootstrapped sampling distribution approximately normal\n",
    "hist(boot_medians)\n",
    "\n",
    "# END solution"
   ]
  },
  {
   "cell_type": "markdown",
   "metadata": {},
   "source": [
    "## Pivotal interval\n",
    "\n",
    "Computing confidence intervals with the normal approximation assumes that the sampling distribution is normal. \n",
    "\n",
    "What if we aren't confident in this assumption? We can use the pivotal method:\n",
    "$\\left(2 \\hat{\\theta} - \\hat{\\theta}^\\star_{1-\\alpha/2}, 2 \\hat{\\theta} - \\hat{\\theta}^\\star_{\\alpha/2}\\right)$\n",
    "\n",
    "Note that the pivotal method still assumes that the bootstrapped sampling distribution is a good approximation of the true samping distribution. The sampling distribution just doesn't have to be normal!"
   ]
  },
  {
   "cell_type": "markdown",
   "metadata": {},
   "source": [
    "### Exercise\n",
    "\n",
    "Compute the pivotal interval of the median income. "
   ]
  },
  {
   "cell_type": "code",
   "execution_count": 62,
   "metadata": {},
   "outputs": [
    {
     "name": "stdout",
     "output_type": "stream",
     "text": [
      "[1] 51088.46 67566.88\n"
     ]
    }
   ],
   "source": [
    "# Your code here!\n",
    "\n",
    "# START solution\n",
    "\n",
    "theta_hat <- median(sample_basepay)\n",
    "theta_hat_star_lower <- quantile(boot_medians, 0.975, names=FALSE)\n",
    "theta_hat_star_upper <- quantile(boot_medians, 0.025, names=FALSE)\n",
    "\n",
    "ci_pivotal <- 2 * theta_hat - c(theta_hat_star_lower, theta_hat_star_upper)\n",
    "print(ci_pivotal)\n",
    "\n",
    "# END solution"
   ]
  }
 ],
 "metadata": {
  "kernelspec": {
   "display_name": "R",
   "language": "R",
   "name": "ir"
  },
  "language_info": {
   "codemirror_mode": "r",
   "file_extension": ".r",
   "mimetype": "text/x-r-source",
   "name": "R",
   "pygments_lexer": "r",
   "version": "3.6.3"
  }
 },
 "nbformat": 4,
 "nbformat_minor": 4
}
